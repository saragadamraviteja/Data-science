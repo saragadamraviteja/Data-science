{
 "cells": [
  {
   "cell_type": "markdown",
   "metadata": {},
   "source": [
    "# Sentiment Analysis of Amazon's customer reviews"
   ]
  },
  {
   "cell_type": "markdown",
   "metadata": {},
   "source": [
    "## Introduction to the Case study\n",
    "\n",
    "**Business Context.** You are a data scientist for a large e-commerce firm. You have tens of thousands of customers writing reviews on products each day. Each review contains textual feedback along with a 1-to-5 star rating system (1 being least satisfied and 5 being most satisfied). The firm wants to quantify customer satisfaction coming from these non-rated interactions to help with further business decisions.\n",
    "\n",
    "**Business Problem.** Your task is to *build models which can identify the sentiment (positive or negative) of each of these non-rated interactions*.\n",
    "\n",
    "**Analytical Context.** The data is a set of reviews in CSV file format. We will combine some text processing procedures to be learnt in this session and classification models to develop algorithms capable of classifying interactions by sentiment.\n",
    "\n",
    "You'll be doing the following in this case:\n",
    "1. Read and analyze the input text data and the corresponding response variables (ratings)\n",
    "2. Perform basic pre-processing to prepare the data for modeling\n",
    "3. Learn and apply various ways of featurizing the reviews text\n",
    "4. Build machine learning models to classify text as either exhibiting positive or negative sentiment (1 or 0)."
   ]
  },
  {
   "cell_type": "markdown",
   "metadata": {},
   "source": [
    "## Importing the packages for data analysis\n",
    "\n",
    "At first sight, we will use four main packages: ```pandas```,``` numpy```, ```matplotlib``` and ``` seaborn```. Let's import these packages using the keyword ``import``. We will change the name from ``pandas`` to ```pd```,```numpy``` to ```np```,```matplotlib``` to ```plt```and ```seaborn``` to ```sns```, using the keyword ``as``.\n",
    "\n",
    "We will be using the `nltk`, `sklearn`, `collections` and `wordcloud` packages for processing our text component. While we analyze the text, we will be using `sklearn` package again to model our text features."
   ]
  },
  {
   "cell_type": "markdown",
   "metadata": {
    "collapsed": true
   },
   "source": [
    "We will be working with a .csv file that contains information about tens of thousands of customers writing reviews on Amazon products every day. Each review contains textual feedback along with a 1-to-5 star rating system (1 being least satisfied and 5 being most satisfied). In this way, the following attributes are available in the data:\n",
    "\n",
    "1. **ProductId (categorical):** ID of the referenced product by the customer.\n",
    "2. **UserId (categorical):** registered user ID.\n",
    "3. **ProfileName (text):** registered user profile name.\n",
    "4. **HelpfulnessNumerator (numerical):** number of users who found the review helpful.\n",
    "5. **HelpfulnessDenominator (numerical):** Number of users who voted whether the review was helpful or not.\n",
    "6. **Score (ordinal):** rating between 1 and 5.\n",
    "7. **Time (numerical):** timestamp of the review.\n",
    "8. **Summary (text):** brief summary of the review.\n",
    "9. **Text (text):** text of the review."
   ]
  },
  {
   "cell_type": "code",
   "execution_count": 1,
   "metadata": {},
   "outputs": [
    {
     "name": "stdout",
     "output_type": "stream",
     "text": [
      "Requirement already satisfied: nltk in d:\\programdata\\anaconda3\\envs\\tensorflow\\lib\\site-packages (3.5)\n",
      "Requirement already satisfied: tqdm in d:\\programdata\\anaconda3\\envs\\tensorflow\\lib\\site-packages (from nltk) (4.48.2)\n",
      "Requirement already satisfied: regex in d:\\programdata\\anaconda3\\envs\\tensorflow\\lib\\site-packages (from nltk) (2020.7.14)\n",
      "Requirement already satisfied: joblib in d:\\programdata\\anaconda3\\envs\\tensorflow\\lib\\site-packages (from nltk) (0.15.1)\n",
      "Requirement already satisfied: click in d:\\programdata\\anaconda3\\envs\\tensorflow\\lib\\site-packages (from nltk) (7.1.2)\n",
      "Requirement already satisfied: wordcloud in d:\\programdata\\anaconda3\\envs\\tensorflow\\lib\\site-packages (1.8.1)\n",
      "Requirement already satisfied: matplotlib in d:\\programdata\\anaconda3\\envs\\tensorflow\\lib\\site-packages (from wordcloud) (3.2.2)\n",
      "Requirement already satisfied: pillow in d:\\programdata\\anaconda3\\envs\\tensorflow\\lib\\site-packages (from wordcloud) (7.2.0)\n",
      "Requirement already satisfied: numpy>=1.6.1 in d:\\programdata\\anaconda3\\envs\\tensorflow\\lib\\site-packages (from wordcloud) (1.18.1)\n",
      "Requirement already satisfied: kiwisolver>=1.0.1 in d:\\programdata\\anaconda3\\envs\\tensorflow\\lib\\site-packages (from matplotlib->wordcloud) (1.2.0)\n",
      "Requirement already satisfied: cycler>=0.10 in d:\\programdata\\anaconda3\\envs\\tensorflow\\lib\\site-packages (from matplotlib->wordcloud) (0.10.0)\n",
      "Requirement already satisfied: pyparsing!=2.0.4,!=2.1.2,!=2.1.6,>=2.0.1 in d:\\programdata\\anaconda3\\envs\\tensorflow\\lib\\site-packages (from matplotlib->wordcloud) (2.4.7)\n",
      "Requirement already satisfied: python-dateutil>=2.1 in d:\\programdata\\anaconda3\\envs\\tensorflow\\lib\\site-packages (from matplotlib->wordcloud) (2.8.1)\n",
      "Requirement already satisfied: six in d:\\programdata\\anaconda3\\envs\\tensorflow\\lib\\site-packages (from cycler>=0.10->matplotlib->wordcloud) (1.15.0)\n"
     ]
    }
   ],
   "source": [
    "! pip install nltk\n",
    "! pip install wordcloud"
   ]
  },
  {
   "cell_type": "code",
   "execution_count": 3,
   "metadata": {},
   "outputs": [],
   "source": [
    "# General packages\n",
    "import numpy as np\n",
    "import pandas as pd\n",
    "import seaborn as sns\n",
    "import matplotlib.pyplot as plt\n",
    "import os\n",
    "\n",
    "# NLP packages\n",
    "import nltk\n",
    "from nltk import word_tokenize\n",
    "from sklearn.feature_extraction.text import CountVectorizer\n",
    "from sklearn.feature_extraction.text import TfidfVectorizer\n",
    "from collections import Counter\n",
    "from wordcloud import WordCloud\n",
    "\n",
    "# Modeling packages\n",
    "from sklearn.model_selection import train_test_split\n",
    "from sklearn.linear_model import LogisticRegression\n",
    "from sklearn.ensemble import RandomForestClassifier\n",
    "from sklearn.metrics import accuracy_score\n",
    "from sklearn.metrics import f1_score\n",
    "\n",
    "from pylab import rcParams\n",
    "import warnings\n",
    "warnings.filterwarnings(\"ignore\")\n",
    "rcParams['figure.figsize'] = 14, 6\n",
    "plt.style.use('ggplot')"
   ]
  },
  {
   "cell_type": "markdown",
   "metadata": {},
   "source": [
    "## Reading and performing basic analysis of the data\n",
    "\n",
    "As usual the first step is to read the available data and perform some high-level analysis on it:"
   ]
  },
  {
   "cell_type": "code",
   "execution_count": 4,
   "metadata": {
    "scrolled": false
   },
   "outputs": [
    {
     "data": {
      "text/html": [
       "<div>\n",
       "<style scoped>\n",
       "    .dataframe tbody tr th:only-of-type {\n",
       "        vertical-align: middle;\n",
       "    }\n",
       "\n",
       "    .dataframe tbody tr th {\n",
       "        vertical-align: top;\n",
       "    }\n",
       "\n",
       "    .dataframe thead th {\n",
       "        text-align: right;\n",
       "    }\n",
       "</style>\n",
       "<table border=\"1\" class=\"dataframe\">\n",
       "  <thead>\n",
       "    <tr style=\"text-align: right;\">\n",
       "      <th></th>\n",
       "      <th>ProductId</th>\n",
       "      <th>UserId</th>\n",
       "      <th>ProfileName</th>\n",
       "      <th>HelpfulnessNumerator</th>\n",
       "      <th>HelpfulnessDenominator</th>\n",
       "      <th>Score</th>\n",
       "      <th>Time</th>\n",
       "      <th>Summary</th>\n",
       "      <th>Text</th>\n",
       "    </tr>\n",
       "  </thead>\n",
       "  <tbody>\n",
       "    <tr>\n",
       "      <th>0</th>\n",
       "      <td>B001E4KFG0</td>\n",
       "      <td>A3SGXH7AUHU8GW</td>\n",
       "      <td>delmartian</td>\n",
       "      <td>1</td>\n",
       "      <td>1</td>\n",
       "      <td>5</td>\n",
       "      <td>1303862400</td>\n",
       "      <td>Good Quality Dog Food</td>\n",
       "      <td>I have bought several of the Vitality canned d...</td>\n",
       "    </tr>\n",
       "    <tr>\n",
       "      <th>1</th>\n",
       "      <td>B00813GRG4</td>\n",
       "      <td>A1D87F6ZCVE5NK</td>\n",
       "      <td>dll pa</td>\n",
       "      <td>0</td>\n",
       "      <td>0</td>\n",
       "      <td>1</td>\n",
       "      <td>1346976000</td>\n",
       "      <td>Not as Advertised</td>\n",
       "      <td>Product arrived labeled as Jumbo Salted Peanut...</td>\n",
       "    </tr>\n",
       "    <tr>\n",
       "      <th>2</th>\n",
       "      <td>B000LQOCH0</td>\n",
       "      <td>ABXLMWJIXXAIN</td>\n",
       "      <td>Natalia Corres \"Natalia Corres\"</td>\n",
       "      <td>1</td>\n",
       "      <td>1</td>\n",
       "      <td>4</td>\n",
       "      <td>1219017600</td>\n",
       "      <td>\"Delight\" says it all</td>\n",
       "      <td>This is a confection that has been around a fe...</td>\n",
       "    </tr>\n",
       "  </tbody>\n",
       "</table>\n",
       "</div>"
      ],
      "text/plain": [
       "    ProductId          UserId                      ProfileName  \\\n",
       "0  B001E4KFG0  A3SGXH7AUHU8GW                       delmartian   \n",
       "1  B00813GRG4  A1D87F6ZCVE5NK                           dll pa   \n",
       "2  B000LQOCH0   ABXLMWJIXXAIN  Natalia Corres \"Natalia Corres\"   \n",
       "\n",
       "   HelpfulnessNumerator  HelpfulnessDenominator  Score        Time  \\\n",
       "0                     1                       1      5  1303862400   \n",
       "1                     0                       0      1  1346976000   \n",
       "2                     1                       1      4  1219017600   \n",
       "\n",
       "                 Summary                                               Text  \n",
       "0  Good Quality Dog Food  I have bought several of the Vitality canned d...  \n",
       "1      Not as Advertised  Product arrived labeled as Jumbo Salted Peanut...  \n",
       "2  \"Delight\" says it all  This is a confection that has been around a fe...  "
      ]
     },
     "execution_count": 4,
     "metadata": {},
     "output_type": "execute_result"
    }
   ],
   "source": [
    "amazon_reviews = pd.read_csv('https://media.githubusercontent.com/media/juliandariomirandacalle/NLP_Notebooks/master/01-Introduction_NLP/Customer_Reviews.csv')\n",
    "amazon_reviews.head(3)"
   ]
  },
  {
   "cell_type": "markdown",
   "metadata": {},
   "source": [
    "Let's look at the distribution of number of words per review. We will do this by applying a *lambda* function that splits each complete review by spaces, which will give us the borad words:"
   ]
  },
  {
   "cell_type": "code",
   "execution_count": 5,
   "metadata": {},
   "outputs": [
    {
     "data": {
      "image/png": "[encoded data removed]",
      "text/plain": [
       "<Figure size 1008x432 with 1 Axes>"
      ]
     },
     "metadata": {},
     "output_type": "display_data"
    }
   ],
   "source": [
    "## Getting the number of words by splitting them by a space\n",
    "words_per_review = amazon_reviews.Text.apply(lambda x: len(x.split(\" \")))\n",
    "words_per_review.hist(bins = 100)\n",
    "plt.xlabel('Review Length (words)')\n",
    "plt.ylabel('Frequency')\n",
    "plt.show()"
   ]
  },
  {
   "cell_type": "code",
   "execution_count": 6,
   "metadata": {},
   "outputs": [
    {
     "name": "stdout",
     "output_type": "stream",
     "text": [
      "Average words: 77.9028\n",
      "Skewness: 4.612459483340116\n"
     ]
    }
   ],
   "source": [
    "print('Average words:', words_per_review.mean())\n",
    "print('Skewness:', words_per_review.skew())"
   ]
  },
  {
   "cell_type": "markdown",
   "metadata": {},
   "source": [
    "We can see that the number of words per user review is highly positive skewed with mean of 77, which means that on average, user reviews have 77 words."
   ]
  },
  {
   "cell_type": "markdown",
   "metadata": {},
   "source": [
    "Let's also look at the distribution of ratings:"
   ]
  },
  {
   "cell_type": "code",
   "execution_count": 7,
   "metadata": {
    "scrolled": false
   },
   "outputs": [
    {
     "data": {
      "text/plain": [
       "5    61.83\n",
       "4    14.33\n",
       "1     9.32\n",
       "3     8.62\n",
       "2     5.90\n",
       "Name: Score, dtype: float64"
      ]
     },
     "execution_count": 7,
     "metadata": {},
     "output_type": "execute_result"
    }
   ],
   "source": [
    "percent_val = 100 * amazon_reviews['Score'].value_counts()/len(amazon_reviews)\n",
    "percent_val"
   ]
  },
  {
   "cell_type": "code",
   "execution_count": 8,
   "metadata": {},
   "outputs": [
    {
     "data": {
      "image/png": "[encoded data removed]",
      "text/plain": [
       "<Figure size 1008x432 with 1 Axes>"
      ]
     },
     "metadata": {},
     "output_type": "display_data"
    }
   ],
   "source": [
    "percent_val.plot.bar()\n",
    "plt.show()"
   ]
  },
  {
   "cell_type": "markdown",
   "metadata": {},
   "source": [
    "The distribution is quite skewed, with a giant number of 5s and very few 3s, 2s, and 1s."
   ]
  },
  {
   "cell_type": "markdown",
   "metadata": {},
   "source": [
    "### Text visualization using word clouds (*word clouds* )\n",
    "\n",
    "As visualization is crucial for numerical data, it is also important for text data. However, the text does not lend itself to histogram charts or scatterplots, as numerical data does. In such cases, the **word clouds** are a common and very useful tool to appreciate the text distribution.\n",
    "\n",
    "To make a word cloud of the string values of the Seires `data['Text']`, we are going to import the `WordCloud` package (if it is not installed, you can proceed to install it with `pip install wordcloud`) and join all the text with the `.join()` method:"
   ]
  },
  {
   "cell_type": "code",
   "execution_count": 9,
   "metadata": {},
   "outputs": [
    {
     "data": {
      "image/png": "[encoded data removed]",
      "text/plain": [
       "<Figure size 1008x432 with 1 Axes>"
      ]
     },
     "metadata": {},
     "output_type": "display_data"
    }
   ],
   "source": [
    "word_cloud_text = ''.join(amazon_reviews['Text'])\n",
    "\n",
    "wordcloud = WordCloud(max_font_size=100, # Maximum font size for the largest word\n",
    "                      max_words=100, # The maximum number of words\n",
    "                      background_color=\"white\", # Background color for the word cloud image\n",
    "                      scale = 10, # Scaling between computation and drawing\n",
    "                      width=800, # Width of the canvas\n",
    "                      height=400 # Height of the canvas\n",
    "                     ).generate(word_cloud_text)\n",
    "\n",
    "plt.figure()\n",
    "plt.imshow(wordcloud, \n",
    "           interpolation=\"bilinear\") # to make the displayed image appear more smoothly\n",
    "plt.axis(\"off\")\n",
    "plt.show()"
   ]
  },
  {
   "cell_type": "markdown",
   "metadata": {},
   "source": [
    "The word cloud indicates that many of the reviews talk about food-related things - coffee, flavor, food, taste, drink. We also see some positive words like good, love, best, as well as not desired ones such as br (line break), many (determiner) and something (adverb)."
   ]
  },
  {
   "cell_type": "markdown",
   "metadata": {},
   "source": [
    "### Standardizing the ratings for sentiment analysis (5 mts)"
   ]
  },
  {
   "cell_type": "markdown",
   "metadata": {},
   "source": [
    "For the purposes of sentiment analysis, we will convert all of the ratings into binary values using the follow rule: \n",
    "- Ratings of 4 or 5 will get mapped to 1 and will be reltead to positive reviews\n",
    "- Ratings of 1 or 2 will get mapped to 0 and will be related to negative reviews\n",
    "- Ratings of 3 will get removed since they will represent neutral reviews."
   ]
  },
  {
   "cell_type": "code",
   "execution_count": 10,
   "metadata": {},
   "outputs": [
    {
     "data": {
      "text/plain": [
       "1    7616\n",
       "0    1522\n",
       "Name: Sentiment_rating, dtype: int64"
      ]
     },
     "execution_count": 10,
     "metadata": {},
     "output_type": "execute_result"
    }
   ],
   "source": [
    "# Mapping the ratings\n",
    "amazon_reviews['Sentiment_rating'] = np.where(amazon_reviews.Score > 3,1,0)\n",
    "\n",
    "## Removing neutral reviews \n",
    "amazon_reviews = amazon_reviews[amazon_reviews.Score != 3]\n",
    "\n",
    "# Printing the counts of each class\n",
    "amazon_reviews['Sentiment_rating'].value_counts()"
   ]
  },
  {
   "cell_type": "code",
   "execution_count": 11,
   "metadata": {
    "scrolled": true
   },
   "outputs": [
    {
     "data": {
      "image/png": "[encoded data removed]",
      "text/plain": [
       "<Figure size 1008x432 with 1 Axes>"
      ]
     },
     "metadata": {},
     "output_type": "display_data"
    }
   ],
   "source": [
    "amazon_reviews.Sentiment_rating.value_counts().plot.bar()\n",
    "plt.show()"
   ]
  },
  {
   "cell_type": "markdown",
   "metadata": {},
   "source": [
    "There is a class imbalance that we are going to handle by defining robust metrics."
   ]
  },
  {
   "cell_type": "markdown",
   "metadata": {},
   "source": [
    "## Pre-processing"
   ]
  },
  {
   "cell_type": "markdown",
   "metadata": {},
   "source": [
    "As discussed previously, text preprocessing and normalization is crucial before building a proper NLP model. Some of the important steps are:\n",
    "\n",
    "1. Converting words to lower/upper case\n",
    "2. Removing special characters\n",
    "3. Removing stopwords and high/low-frequency words\n",
    "4. Stemming/lemmatization\n",
    "\n",
    "### 1. Converting words to lower/upper case\n",
    "\n",
    "Let's start by converting all of the words into a consistent case format, say lowercase:"
   ]
  },
  {
   "cell_type": "code",
   "execution_count": 10,
   "metadata": {},
   "outputs": [],
   "source": [
    "amazon_reviews['reviews_text_new'] = amazon_reviews['Text'].str.lower()"
   ]
  },
  {
   "cell_type": "markdown",
   "metadata": {},
   "source": [
    "In the following code cell we analyze the number of unique words that are found in reviews before and after applying this step. This process of extracting individual words is called **word tokenization**, and can be run using the `word_tokenize` function in the `nltk` package:"
   ]
  },
  {
   "cell_type": "code",
   "execution_count": 11,
   "metadata": {},
   "outputs": [
    {
     "data": {
      "text/plain": [
       "['DPhi', 'Bootcamp', 'rules', '.', 'It', 'is', 'awesome', ':', 'D']"
      ]
     },
     "execution_count": 11,
     "metadata": {},
     "output_type": "execute_result"
    }
   ],
   "source": [
    "from nltk import word_tokenize\n",
    "\n",
    "# Word tokenization example:\n",
    "word_tokenize(\"DPhi Bootcamp rules. It is awesome :D\")"
   ]
  },
  {
   "cell_type": "code",
   "execution_count": 12,
   "metadata": {},
   "outputs": [
    {
     "name": "stdout",
     "output_type": "stream",
     "text": [
      "Number of unique tokens then:  27884\n",
      "Number of unique tokens now:  22852\n"
     ]
    }
   ],
   "source": [
    "# For reviews not converted to lowe case\n",
    "token_lists = [word_tokenize(each) for each in amazon_reviews['Text']]\n",
    "tokens = [item for sublist in token_lists for item in sublist]\n",
    "print(\"Number of unique tokens then: \",len(set(tokens)))\n",
    "\n",
    "# For reviews converted to lowe case\n",
    "token_lists_lower = [word_tokenize(each) for each in amazon_reviews['reviews_text_new']]\n",
    "tokens_lower = [item for sublist in token_lists_lower for item in sublist]\n",
    "print(\"Number of unique tokens now: \",len(set(tokens_lower)))"
   ]
  },
  {
   "cell_type": "markdown",
   "metadata": {},
   "source": [
    "The number of tokens has gone down by ~18% just from normalizing the corpus."
   ]
  },
  {
   "cell_type": "markdown",
   "metadata": {},
   "source": [
    "Removing special characters is a subjective call, especially in cases like this one. People often use special characters to express their emotions and might leave a review like _'This product is the worst!!!'_, while a positive review could be like _'This product is the best. Loved it!'_. Here, the presence of exclamation marks clearly indicates something about the underlying sentiment, so removing them may well not be a good idea.\n",
    "\n",
    "On the other hand, removing non-emotionally charged punctuation such as commas, periods, and semicolons is likely safe."
   ]
  },
  {
   "cell_type": "markdown",
   "metadata": {},
   "source": [
    "### 2. Removing special characters"
   ]
  },
  {
   "cell_type": "markdown",
   "metadata": {},
   "source": [
    "For the sake of simplicity, we will proceed by removing all of the special characters; however, it pays to keep in mind that this is something to revisit depending on the results we get later. The following gives a list of all the special characters in our dataset:"
   ]
  },
  {
   "cell_type": "code",
   "execution_count": 13,
   "metadata": {
    "scrolled": true
   },
   "outputs": [
    {
     "data": {
      "text/plain": [
       "{'!',\n",
       " '\"',\n",
       " '#',\n",
       " '$',\n",
       " '%',\n",
       " '&',\n",
       " \"'\",\n",
       " '(',\n",
       " ')',\n",
       " '*',\n",
       " '+',\n",
       " ',',\n",
       " '-',\n",
       " '.',\n",
       " '/',\n",
       " ':',\n",
       " ';',\n",
       " '<',\n",
       " '=',\n",
       " '>',\n",
       " '?',\n",
       " '@',\n",
       " '[',\n",
       " ']',\n",
       " '^',\n",
       " '_',\n",
       " '`',\n",
       " '{',\n",
       " '}',\n",
       " '~',\n",
       " '§',\n",
       " '®'}"
      ]
     },
     "execution_count": 13,
     "metadata": {},
     "output_type": "execute_result"
    }
   ],
   "source": [
    "### Selecting non alpha numeric charactes that are not spaces\n",
    "spl_chars = amazon_reviews['reviews_text_new'].apply(lambda review: \n",
    "                                                     [char for char in list(review) if not char.isalnum() and char != ' '])\n",
    "\n",
    "## Getting list of list into a single list\n",
    "flat_list = [item for sublist in spl_chars for item in sublist]\n",
    "\n",
    "## Unique special characters\n",
    "set(flat_list)"
   ]
  },
  {
   "cell_type": "markdown",
   "metadata": {},
   "source": [
    "Let's remove these special characters from the reviews by applying a regular expression:"
   ]
  },
  {
   "cell_type": "code",
   "execution_count": 14,
   "metadata": {},
   "outputs": [],
   "source": [
    "review_backup = amazon_reviews['reviews_text_new'].copy()\n",
    "amazon_reviews['reviews_text_new'] = amazon_reviews['reviews_text_new'].str.replace(r'[^A-Za-z0-9 ]+', ' ')"
   ]
  },
  {
   "cell_type": "markdown",
   "metadata": {},
   "source": [
    "Let's decomose the regular expression `[^A-Za-z0-9 ]+`:\n",
    "- `[ ]`: match any character inside the list defined by the square brackets, including the space character `' '`\n",
    "- `^`: start of the line\n",
    "- `A-Z`: accept english upper case characters from A to Z\n",
    "- `a-z`: accept english lower case characters from a to z\n",
    "- `0-9`: accept single number characters from 0 to 9"
   ]
  },
  {
   "cell_type": "markdown",
   "metadata": {},
   "source": [
    "We can see how our reviews change after removing these:"
   ]
  },
  {
   "cell_type": "code",
   "execution_count": 15,
   "metadata": {},
   "outputs": [
    {
     "name": "stdout",
     "output_type": "stream",
     "text": [
      "- Old Review -\n",
      "this saltwater taffy had great flavors and was very soft and chewy.  each candy was individually wrapped well.  none of the candies were stuck together, which did happen in the expensive version, fralinger's.  would highly recommend this candy!  i served it at a beach-themed party and everyone loved it!\n",
      "\n",
      "- New Review -\n",
      "this saltwater taffy had great flavors and was very soft and chewy   each candy was individually wrapped well   none of the candies were stuck together  which did happen in the expensive version  fralinger s   would highly recommend this candy   i served it at a beach themed party and everyone loved it \n"
     ]
    }
   ],
   "source": [
    "print(\"- Old Review -\")\n",
    "print(review_backup.values[6])\n",
    "print(\"\\n- New Review -\")\n",
    "print(amazon_reviews['reviews_text_new'][6])"
   ]
  },
  {
   "cell_type": "markdown",
   "metadata": {},
   "source": [
    "The number of unique tokens has dropped further:"
   ]
  },
  {
   "cell_type": "code",
   "execution_count": 16,
   "metadata": {},
   "outputs": [
    {
     "name": "stdout",
     "output_type": "stream",
     "text": [
      "Number of unique tokens then:  27884\n",
      "Number of unique tokens now:  18039\n"
     ]
    }
   ],
   "source": [
    "token_lists = [word_tokenize(each) for each in amazon_reviews['Text']]\n",
    "tokens = [item for sublist in token_lists for item in sublist]\n",
    "print(\"Number of unique tokens then: \",len(set(tokens)))\n",
    "\n",
    "token_lists = [word_tokenize(each) for each in amazon_reviews['reviews_text_new']]\n",
    "tokens = [item for sublist in token_lists for item in sublist]\n",
    "print(\"Number of unique tokens now: \",len(set(tokens)))"
   ]
  },
  {
   "cell_type": "markdown",
   "metadata": {},
   "source": [
    "### 3. Stopwords and high/low frequency words"
   ]
  },
  {
   "cell_type": "markdown",
   "metadata": {},
   "source": [
    "As discussed before, stopwords naturally occur very frequently in the English language without adding any context specific insights. It makes sense to remove them. Let's first review what languages are available in the nltk package:"
   ]
  },
  {
   "cell_type": "code",
   "execution_count": 17,
   "metadata": {},
   "outputs": [
    {
     "name": "stdout",
     "output_type": "stream",
     "text": [
      "Available languages for NLTK v.3.4.5: \n",
      "['arabic', 'azerbaijani', 'danish', 'dutch', 'english', 'finnish', 'french', 'german', 'greek', 'hungarian', 'indonesian', 'italian', 'kazakh', 'nepali', 'norwegian', 'portuguese', 'romanian', 'russian', 'slovene', 'spanish', 'swedish', 'tajik', 'turkish']\n"
     ]
    }
   ],
   "source": [
    "from nltk.corpus import stopwords\n",
    "\n",
    "print('Available languages for NLTK v.3.4.5: ')\n",
    "print(stopwords.fileids())"
   ]
  },
  {
   "cell_type": "markdown",
   "metadata": {},
   "source": [
    "Let's now review the list of English stopwords:"
   ]
  },
  {
   "cell_type": "code",
   "execution_count": 18,
   "metadata": {},
   "outputs": [
    {
     "data": {
      "text/plain": [
       "['i',\n",
       " 'me',\n",
       " 'my',\n",
       " 'myself',\n",
       " 'we',\n",
       " 'our',\n",
       " 'ours',\n",
       " 'ourselves',\n",
       " 'you',\n",
       " \"you're\",\n",
       " \"you've\",\n",
       " \"you'll\",\n",
       " \"you'd\",\n",
       " 'your',\n",
       " 'yours',\n",
       " 'yourself',\n",
       " 'yourselves',\n",
       " 'he',\n",
       " 'him',\n",
       " 'his',\n",
       " 'himself',\n",
       " 'she',\n",
       " \"she's\",\n",
       " 'her',\n",
       " 'hers',\n",
       " 'herself',\n",
       " 'it',\n",
       " \"it's\",\n",
       " 'its',\n",
       " 'itself',\n",
       " 'they',\n",
       " 'them',\n",
       " 'their',\n",
       " 'theirs',\n",
       " 'themselves',\n",
       " 'what',\n",
       " 'which',\n",
       " 'who',\n",
       " 'whom',\n",
       " 'this',\n",
       " 'that',\n",
       " \"that'll\",\n",
       " 'these',\n",
       " 'those',\n",
       " 'am',\n",
       " 'is',\n",
       " 'are',\n",
       " 'was',\n",
       " 'were',\n",
       " 'be',\n",
       " 'been',\n",
       " 'being',\n",
       " 'have',\n",
       " 'has',\n",
       " 'had',\n",
       " 'having',\n",
       " 'do',\n",
       " 'does',\n",
       " 'did',\n",
       " 'doing',\n",
       " 'a',\n",
       " 'an',\n",
       " 'the',\n",
       " 'and',\n",
       " 'but',\n",
       " 'if',\n",
       " 'or',\n",
       " 'because',\n",
       " 'as',\n",
       " 'until',\n",
       " 'while',\n",
       " 'of',\n",
       " 'at',\n",
       " 'by',\n",
       " 'for',\n",
       " 'with',\n",
       " 'about',\n",
       " 'against',\n",
       " 'between',\n",
       " 'into',\n",
       " 'through',\n",
       " 'during',\n",
       " 'before',\n",
       " 'after',\n",
       " 'above',\n",
       " 'below',\n",
       " 'to',\n",
       " 'from',\n",
       " 'up',\n",
       " 'down',\n",
       " 'in',\n",
       " 'out',\n",
       " 'on',\n",
       " 'off',\n",
       " 'over',\n",
       " 'under',\n",
       " 'again',\n",
       " 'further',\n",
       " 'then',\n",
       " 'once',\n",
       " 'here',\n",
       " 'there',\n",
       " 'when',\n",
       " 'where',\n",
       " 'why',\n",
       " 'how',\n",
       " 'all',\n",
       " 'any',\n",
       " 'both',\n",
       " 'each',\n",
       " 'few',\n",
       " 'more',\n",
       " 'most',\n",
       " 'other',\n",
       " 'some',\n",
       " 'such',\n",
       " 'no',\n",
       " 'nor',\n",
       " 'not',\n",
       " 'only',\n",
       " 'own',\n",
       " 'same',\n",
       " 'so',\n",
       " 'than',\n",
       " 'too',\n",
       " 'very',\n",
       " 's',\n",
       " 't',\n",
       " 'can',\n",
       " 'will',\n",
       " 'just',\n",
       " 'don',\n",
       " \"don't\",\n",
       " 'should',\n",
       " \"should've\",\n",
       " 'now',\n",
       " 'd',\n",
       " 'll',\n",
       " 'm',\n",
       " 'o',\n",
       " 're',\n",
       " 've',\n",
       " 'y',\n",
       " 'ain',\n",
       " 'aren',\n",
       " \"aren't\",\n",
       " 'couldn',\n",
       " \"couldn't\",\n",
       " 'didn',\n",
       " \"didn't\",\n",
       " 'doesn',\n",
       " \"doesn't\",\n",
       " 'hadn',\n",
       " \"hadn't\",\n",
       " 'hasn',\n",
       " \"hasn't\",\n",
       " 'haven',\n",
       " \"haven't\",\n",
       " 'isn',\n",
       " \"isn't\",\n",
       " 'ma',\n",
       " 'mightn',\n",
       " \"mightn't\",\n",
       " 'mustn',\n",
       " \"mustn't\",\n",
       " 'needn',\n",
       " \"needn't\",\n",
       " 'shan',\n",
       " \"shan't\",\n",
       " 'shouldn',\n",
       " \"shouldn't\",\n",
       " 'wasn',\n",
       " \"wasn't\",\n",
       " 'weren',\n",
       " \"weren't\",\n",
       " 'won',\n",
       " \"won't\",\n",
       " 'wouldn',\n",
       " \"wouldn't\"]"
      ]
     },
     "execution_count": 18,
     "metadata": {},
     "output_type": "execute_result"
    }
   ],
   "source": [
    "noise_words = []\n",
    "eng_stop_words = stopwords.words('english')\n",
    "eng_stop_words"
   ]
  },
  {
   "cell_type": "markdown",
   "metadata": {},
   "source": [
    "Here is an example of removing stopwords:"
   ]
  },
  {
   "cell_type": "code",
   "execution_count": 19,
   "metadata": {},
   "outputs": [
    {
     "name": "stdout",
     "output_type": "stream",
     "text": [
      "-- Original Sentence --\n",
      " i have bought several of the vitality canned dog food products and have found them all to be of good quality  the product looks more like a stew than a processed meat and it smells better  my labrador is finicky and she appreciates this product better than  most \n",
      "\n",
      "-- Stopwords in the sentence --\n",
      " ['i', 'have', 'of', 'the', 'and', 'have', 'them', 'all', 'to', 'be', 'of', 'the', 'more', 'a', 'than', 'a', 'and', 'it', 'my', 'is', 'and', 'she', 'this', 'than', 'most']\n",
      "\n",
      "-- Non-stopwords in the sentence --\n",
      " ['bought', 'several', 'vitality', 'canned', 'dog', 'food', 'products', 'found', 'good', 'quality', 'product', 'looks', 'like', 'stew', 'processed', 'meat', 'smells', 'better', 'labrador', 'finicky', 'appreciates', 'product', 'better']\n"
     ]
    }
   ],
   "source": [
    "stop_words = set(eng_stop_words)\n",
    "without_stop_words = []\n",
    "stopword = []\n",
    "sentence = amazon_reviews['reviews_text_new'][0]\n",
    "words = nltk.word_tokenize(sentence)\n",
    "\n",
    "for word in words:\n",
    "    if word in stop_words:\n",
    "        stopword.append(word)\n",
    "    else:\n",
    "        without_stop_words.append(word)\n",
    "\n",
    "print('-- Original Sentence --\\n', sentence)\n",
    "print('\\n-- Stopwords in the sentence --\\n', stopword)\n",
    "print('\\n-- Non-stopwords in the sentence --\\n', without_stop_words)"
   ]
  },
  {
   "cell_type": "markdown",
   "metadata": {},
   "source": [
    "Let's see how we omit these stopwords from our reviews:"
   ]
  },
  {
   "cell_type": "code",
   "execution_count": 20,
   "metadata": {},
   "outputs": [
    {
     "data": {
      "text/html": [
       "<div>\n",
       "<style scoped>\n",
       "    .dataframe tbody tr th:only-of-type {\n",
       "        vertical-align: middle;\n",
       "    }\n",
       "\n",
       "    .dataframe tbody tr th {\n",
       "        vertical-align: top;\n",
       "    }\n",
       "\n",
       "    .dataframe thead th {\n",
       "        text-align: right;\n",
       "    }\n",
       "</style>\n",
       "<table border=\"1\" class=\"dataframe\">\n",
       "  <thead>\n",
       "    <tr style=\"text-align: right;\">\n",
       "      <th></th>\n",
       "      <th>reviews_text_new</th>\n",
       "      <th>reviews_text_nonstop</th>\n",
       "    </tr>\n",
       "  </thead>\n",
       "  <tbody>\n",
       "    <tr>\n",
       "      <th>0</th>\n",
       "      <td>i have bought several of the vitality canned d...</td>\n",
       "      <td>[bought, several, vitality, canned, dog, food,...</td>\n",
       "    </tr>\n",
       "    <tr>\n",
       "      <th>1</th>\n",
       "      <td>product arrived labeled as jumbo salted peanut...</td>\n",
       "      <td>[product, arrived, labeled, jumbo, salted, pea...</td>\n",
       "    </tr>\n",
       "    <tr>\n",
       "      <th>2</th>\n",
       "      <td>this is a confection that has been around a fe...</td>\n",
       "      <td>[confection, around, centuries, light, pillowy...</td>\n",
       "    </tr>\n",
       "    <tr>\n",
       "      <th>3</th>\n",
       "      <td>if you are looking for the secret ingredient i...</td>\n",
       "      <td>[looking, secret, ingredient, robitussin, beli...</td>\n",
       "    </tr>\n",
       "    <tr>\n",
       "      <th>4</th>\n",
       "      <td>great taffy at a great price   there was a wid...</td>\n",
       "      <td>[great, taffy, great, price, wide, assortment,...</td>\n",
       "    </tr>\n",
       "    <tr>\n",
       "      <th>...</th>\n",
       "      <td>...</td>\n",
       "      <td>...</td>\n",
       "    </tr>\n",
       "    <tr>\n",
       "      <th>9995</th>\n",
       "      <td>we switched from the advance similac to the or...</td>\n",
       "      <td>[switched, advance, similac, organic, product,...</td>\n",
       "    </tr>\n",
       "    <tr>\n",
       "      <th>9996</th>\n",
       "      <td>like the bad reviews say  the organic formula ...</td>\n",
       "      <td>[like, bad, reviews, say, organic, formula, co...</td>\n",
       "    </tr>\n",
       "    <tr>\n",
       "      <th>9997</th>\n",
       "      <td>i wanted to solely breastfeed but was unable t...</td>\n",
       "      <td>[wanted, solely, breastfeed, unable, keep, sup...</td>\n",
       "    </tr>\n",
       "    <tr>\n",
       "      <th>9998</th>\n",
       "      <td>i love the fact that i can get this delieved t...</td>\n",
       "      <td>[love, fact, get, delieved, house, delievy, ch...</td>\n",
       "    </tr>\n",
       "    <tr>\n",
       "      <th>9999</th>\n",
       "      <td>we have a 7 week old  he had gas and constipat...</td>\n",
       "      <td>[7, week, old, gas, constipation, problems, fi...</td>\n",
       "    </tr>\n",
       "  </tbody>\n",
       "</table>\n",
       "<p>9138 rows × 2 columns</p>\n",
       "</div>"
      ],
      "text/plain": [
       "                                       reviews_text_new  \\\n",
       "0     i have bought several of the vitality canned d...   \n",
       "1     product arrived labeled as jumbo salted peanut...   \n",
       "2     this is a confection that has been around a fe...   \n",
       "3     if you are looking for the secret ingredient i...   \n",
       "4     great taffy at a great price   there was a wid...   \n",
       "...                                                 ...   \n",
       "9995  we switched from the advance similac to the or...   \n",
       "9996  like the bad reviews say  the organic formula ...   \n",
       "9997  i wanted to solely breastfeed but was unable t...   \n",
       "9998  i love the fact that i can get this delieved t...   \n",
       "9999  we have a 7 week old  he had gas and constipat...   \n",
       "\n",
       "                                   reviews_text_nonstop  \n",
       "0     [bought, several, vitality, canned, dog, food,...  \n",
       "1     [product, arrived, labeled, jumbo, salted, pea...  \n",
       "2     [confection, around, centuries, light, pillowy...  \n",
       "3     [looking, secret, ingredient, robitussin, beli...  \n",
       "4     [great, taffy, great, price, wide, assortment,...  \n",
       "...                                                 ...  \n",
       "9995  [switched, advance, similac, organic, product,...  \n",
       "9996  [like, bad, reviews, say, organic, formula, co...  \n",
       "9997  [wanted, solely, breastfeed, unable, keep, sup...  \n",
       "9998  [love, fact, get, delieved, house, delievy, ch...  \n",
       "9999  [7, week, old, gas, constipation, problems, fi...  \n",
       "\n",
       "[9138 rows x 2 columns]"
      ]
     },
     "execution_count": 20,
     "metadata": {},
     "output_type": "execute_result"
    }
   ],
   "source": [
    "def stopwords_removal(stop_words, sentence):\n",
    "    return [word for word in nltk.word_tokenize(sentence) if word not in stop_words]\n",
    "\n",
    "amazon_reviews['reviews_text_nonstop'] = amazon_reviews['reviews_text_new'].apply(lambda row: stopwords_removal(stop_words, row))\n",
    "amazon_reviews[['reviews_text_new','reviews_text_nonstop']]"
   ]
  },
  {
   "cell_type": "markdown",
   "metadata": {},
   "source": [
    "### 4. Stemming & lemmatization"
   ]
  },
  {
   "cell_type": "markdown",
   "metadata": {},
   "source": [
    "Now we are ready for the last part of our pre-processing - **stemming & lemmatization**.\n",
    "\n",
    "Different forms of a word often communicate essentially the same meaning. For example, there’s probably no difference in intent between a search for `shoe` and a search for `shoes`. The same word may also appear in different tenses; e.g. \"run\", \"ran\", and \"running\". These syntactic differences between word forms are called **inflections**. In general, we probably want to treat inflections identically when extracting features from the text.\n",
    "\n",
    "Sometimes this process is nearly-reversible and quite safe (e.g. replacing verbs with their infinitive, so that \"run\", \"runs\", and \"running\" all become \"run\"). Other times it is a bit dangerous and context-dependant (e.g. replacing superlatives with their base form, so that \"good\", \"better\", and \"best\" all become \"good\"). The more aggressive you are, the greater the potential rewards and risks. For a very aggressive example, you might choose to replace \"Zeus\" and \"Jupiter\" with \"Zeus\" only; this might be OK if you are summarizing myths, confusing if you are working on astronomy, and disastrous if you are working on comparative mythology.\n",
    "\n",
    "We won't get into the details of the differences between stemming, lemmatization and other types of text normalization here. Please review the following resource for detailed explanation: https://nlp.stanford.edu/IR-book/html/htmledition/stemming-and-lemmatization-1.html."
   ]
  },
  {
   "cell_type": "markdown",
   "metadata": {},
   "source": [
    "**Stemming** works by cutting off the end or the beginning of the word, taking into account a list of common prefixes and suffixes that can be found.\n",
    "\n",
    "**Lemmatization** takes into consideration the morphological analysis of the words. So lemmatization considers the grammar of the word and tries to find the root word instead of just getting to the root word by brute force methods."
   ]
  },
  {
   "cell_type": "code",
   "execution_count": 4,
   "metadata": {},
   "outputs": [
    {
     "name": "stderr",
     "output_type": "stream",
     "text": [
      "[nltk_data] Downloading package wordnet to\n",
      "[nltk_data]     C:\\Users\\julia\\AppData\\Roaming\\nltk_data...\n",
      "[nltk_data]   Package wordnet is already up-to-date!\n"
     ]
    }
   ],
   "source": [
    "from nltk.stem import PorterStemmer, LancasterStemmer # Common stemmers\n",
    "from nltk.stem import WordNetLemmatizer # Common Lematizer\n",
    "nltk.download('wordnet')\n",
    "from nltk.corpus import wordnet\n",
    "\n",
    "porter = PorterStemmer()\n",
    "lancaster = LancasterStemmer()\n",
    "lemmatizer = WordNetLemmatizer()"
   ]
  },
  {
   "cell_type": "code",
   "execution_count": 7,
   "metadata": {},
   "outputs": [
    {
     "name": "stdout",
     "output_type": "stream",
     "text": [
      "Lancaster Stemmer\n",
      "troubl\n",
      "troubl\n",
      "troubl\n",
      "WordNet Lemmatizer\n",
      "trouble\n",
      "trouble\n",
      "trouble\n"
     ]
    }
   ],
   "source": [
    "print(\"Lancaster Stemmer\")\n",
    "print(lancaster.stem(\"trouble\"))\n",
    "print(lancaster.stem(\"troubling\"))\n",
    "print(lancaster.stem(\"troubled\"))\n",
    "\n",
    "# Provide a word to be lemmatized\n",
    "print(\"WordNet Lemmatizer\")\n",
    "print(lemmatizer.lemmatize(\"trouble\", wordnet.NOUN))\n",
    "print(lemmatizer.lemmatize(\"troubling\", wordnet.VERB))\n",
    "print(lemmatizer.lemmatize(\"troubled\", wordnet.VERB))"
   ]
  },
  {
   "cell_type": "markdown",
   "metadata": {},
   "source": [
    "It can be seen that we get a meaning root word from Lemmatizer while Stemmer just cuts out and extracts the first important part of the word."
   ]
  },
  {
   "cell_type": "markdown",
   "metadata": {},
   "source": [
    "## Building a machine learning model"
   ]
  },
  {
   "cell_type": "markdown",
   "metadata": {},
   "source": [
    "Now we have cleaned-up versions of two very important pieces of data – the actual review text and its corresponding sentiment rating:"
   ]
  },
  {
   "cell_type": "code",
   "execution_count": 23,
   "metadata": {},
   "outputs": [
    {
     "data": {
      "text/html": [
       "<div>\n",
       "<style scoped>\n",
       "    .dataframe tbody tr th:only-of-type {\n",
       "        vertical-align: middle;\n",
       "    }\n",
       "\n",
       "    .dataframe tbody tr th {\n",
       "        vertical-align: top;\n",
       "    }\n",
       "\n",
       "    .dataframe thead th {\n",
       "        text-align: right;\n",
       "    }\n",
       "</style>\n",
       "<table border=\"1\" class=\"dataframe\">\n",
       "  <thead>\n",
       "    <tr style=\"text-align: right;\">\n",
       "      <th></th>\n",
       "      <th>Text</th>\n",
       "      <th>Score</th>\n",
       "      <th>Sentiment_rating</th>\n",
       "    </tr>\n",
       "  </thead>\n",
       "  <tbody>\n",
       "    <tr>\n",
       "      <th>0</th>\n",
       "      <td>I have bought several of the Vitality canned d...</td>\n",
       "      <td>5</td>\n",
       "      <td>1</td>\n",
       "    </tr>\n",
       "    <tr>\n",
       "      <th>1</th>\n",
       "      <td>Product arrived labeled as Jumbo Salted Peanut...</td>\n",
       "      <td>1</td>\n",
       "      <td>0</td>\n",
       "    </tr>\n",
       "    <tr>\n",
       "      <th>2</th>\n",
       "      <td>This is a confection that has been around a fe...</td>\n",
       "      <td>4</td>\n",
       "      <td>1</td>\n",
       "    </tr>\n",
       "    <tr>\n",
       "      <th>3</th>\n",
       "      <td>If you are looking for the secret ingredient i...</td>\n",
       "      <td>2</td>\n",
       "      <td>0</td>\n",
       "    </tr>\n",
       "    <tr>\n",
       "      <th>4</th>\n",
       "      <td>Great taffy at a great price.  There was a wid...</td>\n",
       "      <td>5</td>\n",
       "      <td>1</td>\n",
       "    </tr>\n",
       "  </tbody>\n",
       "</table>\n",
       "</div>"
      ],
      "text/plain": [
       "                                                Text  Score  Sentiment_rating\n",
       "0  I have bought several of the Vitality canned d...      5                 1\n",
       "1  Product arrived labeled as Jumbo Salted Peanut...      1                 0\n",
       "2  This is a confection that has been around a fe...      4                 1\n",
       "3  If you are looking for the secret ingredient i...      2                 0\n",
       "4  Great taffy at a great price.  There was a wid...      5                 1"
      ]
     },
     "execution_count": 23,
     "metadata": {},
     "output_type": "execute_result"
    }
   ],
   "source": [
    "amazon_reviews[['Text','Score','Sentiment_rating']].head(5)"
   ]
  },
  {
   "cell_type": "markdown",
   "metadata": {},
   "source": [
    "The independent variables or model features are derived from the review text. Previously, we discussed how we can use n-grams to create features, and specifically how bag-of-words is the simplest interpretation of these n-grams, disregarding order and context entirely and only focusing on frequency/count. Let's use that as a starting point.\n",
    "\n",
    "Conversely, reading each of the reviews, it is clear that, for instance, \"good\" is mentioned in context like \"not as good\" or \"sounds good\". This indicates that in the world of text we cannot go by single words (also called **1-grams**) alone. The context of the sentence or the surrounding words at least are very much necessary to understand the sentiment of a sentence."
   ]
  },
  {
   "cell_type": "markdown",
   "metadata": {},
   "source": [
    "## n-grams\n",
    "\n",
    "Since 1-grams are sometimes insufficient to understand the significance of certain words in our text, it is natural to consider blocks of words, or **n-grams**.\n",
    "\n",
    "The simplest version of the n-gram model, for $n > 1$, is the **bigram** model, which looks at pairs of consecutive words. For example, the sentence \"The quick brown fox jumps over the lazy dog\" would have tokens \"the quick\", \"quick brown\",..., \"lazy dog\". The following image (source: http://recognize-speech.com/language-model/n-gram-model/comparison) explains this concept:\n",
    "\n",
    "![](images/ngrams.png)\n",
    "\n",
    "This has obvious advantages and disadvantages over looking at words individually:\n",
    "\n",
    "- **Advantages:**\n",
    "    1. Retains the structure of the overall document, and\n",
    "    2. Paves the way for analyzing words in context\n",
    "<br></br><br></br>\n",
    "- **Disadvantages:**\n",
    "    1. The dimension is vastly larger\n",
    "\n",
    "In practice, this last challenge can be truly daunting. As an example, *War and Peace* has 3 million characters, which translates to several hundred thousand 1-grams (words). If you consider that the set of all possible bigrams can be as large as the square of the number of 1-grams, this gets us to a **hundred billion possible bigrams!** If classical ML techniques are not suitable for training on 3 million characters, how can they possibly deal with a hundred billion dimensions?\n",
    "\n",
    "For this reason, it is often prudent to start by extracting as much value out of 1-grams as possible, before working our way up to more complex structures."
   ]
  },
  {
   "cell_type": "markdown",
   "metadata": {},
   "source": [
    "Let's look at an example of extracting n-grams over a proposed sentence:"
   ]
  },
  {
   "cell_type": "code",
   "execution_count": 24,
   "metadata": {},
   "outputs": [
    {
     "name": "stdout",
     "output_type": "stream",
     "text": [
      "1-grams:\n",
      " [('A',), ('bird',), ('in',), ('the',), ('hand',), ('worths',), ('two',), ('in',), ('the',), ('bush',)]\n",
      "2-grams:\n",
      " [('A', 'bird'), ('bird', 'in'), ('in', 'the'), ('the', 'hand'), ('hand', 'worths'), ('worths', 'two'), ('two', 'in'), ('in', 'the'), ('the', 'bush')]\n",
      "3-grams:\n",
      " [('A', 'bird', 'in'), ('bird', 'in', 'the'), ('in', 'the', 'hand'), ('the', 'hand', 'worths'), ('hand', 'worths', 'two'), ('worths', 'two', 'in'), ('two', 'in', 'the'), ('in', 'the', 'bush')]\n",
      "4-grams:\n",
      " [('A', 'bird', 'in', 'the'), ('bird', 'in', 'the', 'hand'), ('in', 'the', 'hand', 'worths'), ('the', 'hand', 'worths', 'two'), ('hand', 'worths', 'two', 'in'), ('worths', 'two', 'in', 'the'), ('two', 'in', 'the', 'bush')]\n",
      "5-grams:\n",
      " [('A', 'bird', 'in', 'the', 'hand'), ('bird', 'in', 'the', 'hand', 'worths'), ('in', 'the', 'hand', 'worths', 'two'), ('the', 'hand', 'worths', 'two', 'in'), ('hand', 'worths', 'two', 'in', 'the'), ('worths', 'two', 'in', 'the', 'bush')]\n"
     ]
    }
   ],
   "source": [
    "from nltk import ngrams\n",
    "\n",
    "sentence = 'A bird in the hand worths two in the bush'\n",
    "\n",
    "for n in range(1, 6):\n",
    "    print(str(n) + '-grams:\\n', list(ngrams(sentence.split(), n)))"
   ]
  },
  {
   "cell_type": "markdown",
   "metadata": {},
   "source": [
    "### Bag-of-words"
   ]
  },
  {
   "cell_type": "markdown",
   "metadata": {},
   "source": [
    "The bag-of-words procedure falls under a broader category of techniques known as **count-based representations**. These are techniques to analyze documents by indicating how frequently certain types of structures occur throughout.\n",
    "\n",
    "Let's start with 1-grams (words). The simplest type of information would be whether a particular word occurs in particular documents. This leads to **word-document co-occurrence matrices**, where the $(W, X)$ entry of the word-document matrix is set to 1 if word $W$ occurs in document $X$, and 0 otherwise.\n",
    "\n",
    "Let's create a word-document co-occurrence matrix for our set of reviews using the `CountVectorizer` class that automatically accounts for certain preprocessing steps like removing stopwords, stemming, creating n-grams, and word tokenization:"
   ]
  },
  {
   "cell_type": "code",
   "execution_count": 25,
   "metadata": {},
   "outputs": [
    {
     "data": {
      "text/html": [
       "<div>\n",
       "<style scoped>\n",
       "    .dataframe tbody tr th:only-of-type {\n",
       "        vertical-align: middle;\n",
       "    }\n",
       "\n",
       "    .dataframe tbody tr th {\n",
       "        vertical-align: top;\n",
       "    }\n",
       "\n",
       "    .dataframe thead th {\n",
       "        text-align: right;\n",
       "    }\n",
       "</style>\n",
       "<table border=\"1\" class=\"dataframe\">\n",
       "  <thead>\n",
       "    <tr style=\"text-align: right;\">\n",
       "      <th></th>\n",
       "      <th>00</th>\n",
       "      <th>000</th>\n",
       "      <th>0003</th>\n",
       "      <th>000kwh</th>\n",
       "      <th>002</th>\n",
       "      <th>008</th>\n",
       "      <th>0100</th>\n",
       "      <th>0174</th>\n",
       "      <th>02</th>\n",
       "      <th>03</th>\n",
       "      <th>...</th>\n",
       "      <th>zomg</th>\n",
       "      <th>zon</th>\n",
       "      <th>zoo</th>\n",
       "      <th>zoom</th>\n",
       "      <th>zotz</th>\n",
       "      <th>zucchini</th>\n",
       "      <th>zuke</th>\n",
       "      <th>zukes</th>\n",
       "      <th>zupas</th>\n",
       "      <th>zuppa</th>\n",
       "    </tr>\n",
       "  </thead>\n",
       "  <tbody>\n",
       "    <tr>\n",
       "      <th>0</th>\n",
       "      <td>0</td>\n",
       "      <td>0</td>\n",
       "      <td>0</td>\n",
       "      <td>0</td>\n",
       "      <td>0</td>\n",
       "      <td>0</td>\n",
       "      <td>0</td>\n",
       "      <td>0</td>\n",
       "      <td>0</td>\n",
       "      <td>0</td>\n",
       "      <td>...</td>\n",
       "      <td>0</td>\n",
       "      <td>0</td>\n",
       "      <td>0</td>\n",
       "      <td>0</td>\n",
       "      <td>0</td>\n",
       "      <td>0</td>\n",
       "      <td>0</td>\n",
       "      <td>0</td>\n",
       "      <td>0</td>\n",
       "      <td>0</td>\n",
       "    </tr>\n",
       "    <tr>\n",
       "      <th>1</th>\n",
       "      <td>0</td>\n",
       "      <td>0</td>\n",
       "      <td>0</td>\n",
       "      <td>0</td>\n",
       "      <td>0</td>\n",
       "      <td>0</td>\n",
       "      <td>0</td>\n",
       "      <td>0</td>\n",
       "      <td>0</td>\n",
       "      <td>0</td>\n",
       "      <td>...</td>\n",
       "      <td>0</td>\n",
       "      <td>0</td>\n",
       "      <td>0</td>\n",
       "      <td>0</td>\n",
       "      <td>0</td>\n",
       "      <td>0</td>\n",
       "      <td>0</td>\n",
       "      <td>0</td>\n",
       "      <td>0</td>\n",
       "      <td>0</td>\n",
       "    </tr>\n",
       "    <tr>\n",
       "      <th>2</th>\n",
       "      <td>0</td>\n",
       "      <td>0</td>\n",
       "      <td>0</td>\n",
       "      <td>0</td>\n",
       "      <td>0</td>\n",
       "      <td>0</td>\n",
       "      <td>0</td>\n",
       "      <td>0</td>\n",
       "      <td>0</td>\n",
       "      <td>0</td>\n",
       "      <td>...</td>\n",
       "      <td>0</td>\n",
       "      <td>0</td>\n",
       "      <td>0</td>\n",
       "      <td>0</td>\n",
       "      <td>0</td>\n",
       "      <td>0</td>\n",
       "      <td>0</td>\n",
       "      <td>0</td>\n",
       "      <td>0</td>\n",
       "      <td>0</td>\n",
       "    </tr>\n",
       "    <tr>\n",
       "      <th>3</th>\n",
       "      <td>0</td>\n",
       "      <td>0</td>\n",
       "      <td>0</td>\n",
       "      <td>0</td>\n",
       "      <td>0</td>\n",
       "      <td>0</td>\n",
       "      <td>0</td>\n",
       "      <td>0</td>\n",
       "      <td>0</td>\n",
       "      <td>0</td>\n",
       "      <td>...</td>\n",
       "      <td>0</td>\n",
       "      <td>0</td>\n",
       "      <td>0</td>\n",
       "      <td>0</td>\n",
       "      <td>0</td>\n",
       "      <td>0</td>\n",
       "      <td>0</td>\n",
       "      <td>0</td>\n",
       "      <td>0</td>\n",
       "      <td>0</td>\n",
       "    </tr>\n",
       "    <tr>\n",
       "      <th>4</th>\n",
       "      <td>0</td>\n",
       "      <td>0</td>\n",
       "      <td>0</td>\n",
       "      <td>0</td>\n",
       "      <td>0</td>\n",
       "      <td>0</td>\n",
       "      <td>0</td>\n",
       "      <td>0</td>\n",
       "      <td>0</td>\n",
       "      <td>0</td>\n",
       "      <td>...</td>\n",
       "      <td>0</td>\n",
       "      <td>0</td>\n",
       "      <td>0</td>\n",
       "      <td>0</td>\n",
       "      <td>0</td>\n",
       "      <td>0</td>\n",
       "      <td>0</td>\n",
       "      <td>0</td>\n",
       "      <td>0</td>\n",
       "      <td>0</td>\n",
       "    </tr>\n",
       "  </tbody>\n",
       "</table>\n",
       "<p>5 rows × 18005 columns</p>\n",
       "</div>"
      ],
      "text/plain": [
       "   00  000  0003  000kwh  002  008  0100  0174  02  03  ...  zomg  zon  zoo  \\\n",
       "0   0    0     0       0    0    0     0     0   0   0  ...     0    0    0   \n",
       "1   0    0     0       0    0    0     0     0   0   0  ...     0    0    0   \n",
       "2   0    0     0       0    0    0     0     0   0   0  ...     0    0    0   \n",
       "3   0    0     0       0    0    0     0     0   0   0  ...     0    0    0   \n",
       "4   0    0     0       0    0    0     0     0   0   0  ...     0    0    0   \n",
       "\n",
       "   zoom  zotz  zucchini  zuke  zukes  zupas  zuppa  \n",
       "0     0     0         0     0      0      0      0  \n",
       "1     0     0         0     0      0      0      0  \n",
       "2     0     0         0     0      0      0      0  \n",
       "3     0     0         0     0      0      0      0  \n",
       "4     0     0         0     0      0      0      0  \n",
       "\n",
       "[5 rows x 18005 columns]"
      ]
     },
     "execution_count": 25,
     "metadata": {},
     "output_type": "execute_result"
    }
   ],
   "source": [
    "# The following code creates a word-document matrix.\n",
    "from sklearn.feature_extraction.text import CountVectorizer\n",
    "\n",
    "vec = CountVectorizer()\n",
    "X = vec.fit_transform(amazon_reviews['reviews_text_new'])\n",
    "df = pd.DataFrame(X.toarray(), columns = vec.get_feature_names())\n",
    "df.head()"
   ]
  },
  {
   "cell_type": "markdown",
   "metadata": {},
   "source": [
    "Let's use this to create a bag of words from the reviews, excluding the noise words we identified earlier:"
   ]
  },
  {
   "cell_type": "code",
   "execution_count": 26,
   "metadata": {},
   "outputs": [],
   "source": [
    "### Creating a python object of the class CountVectorizer\n",
    "\n",
    "bow_counts = CountVectorizer(tokenizer= word_tokenize, # type of tokenization\n",
    "                             stop_words=noise_words, # List of stopwords\n",
    "                             ngram_range=(1,1)) # number of n-grams\n",
    "\n",
    "bow_data = bow_counts.fit_transform(amazon_reviews['reviews_text_new'])"
   ]
  },
  {
   "cell_type": "code",
   "execution_count": 27,
   "metadata": {},
   "outputs": [
    {
     "data": {
      "text/plain": [
       "<9138x18039 sparse matrix of type '<class 'numpy.int64'>'\n",
       "\twith 493450 stored elements in Compressed Sparse Row format>"
      ]
     },
     "execution_count": 27,
     "metadata": {},
     "output_type": "execute_result"
    }
   ],
   "source": [
    "bow_data"
   ]
  },
  {
   "cell_type": "markdown",
   "metadata": {},
   "source": [
    "We can see that a sparse matrix of 9138 observations (number of rows of the `reviews_text_new` series) has been built, and 17679 columns corresponding to the features extracted by means of the representation of the 1-gram count of the user reviews."
   ]
  },
  {
   "cell_type": "markdown",
   "metadata": {},
   "source": [
    "Once the bag of words is prepared, the dataset should be divided into training and test sets:"
   ]
  },
  {
   "cell_type": "code",
   "execution_count": 28,
   "metadata": {},
   "outputs": [],
   "source": [
    "X_train_bow, X_test_bow, y_train_bow, y_test_bow = train_test_split(bow_data, # Features\n",
    "                                                                    amazon_reviews['Sentiment_rating'], # Target variable\n",
    "                                                                    test_size = 0.2, # 20% test size\n",
    "                                                                    random_state = 0) # random state for replication purposes"
   ]
  },
  {
   "cell_type": "code",
   "execution_count": 29,
   "metadata": {},
   "outputs": [
    {
     "data": {
      "text/plain": [
       "1    0.847921\n",
       "0    0.152079\n",
       "Name: Sentiment_rating, dtype: float64"
      ]
     },
     "execution_count": 29,
     "metadata": {},
     "output_type": "execute_result"
    }
   ],
   "source": [
    "y_test_bow.value_counts()/y_test_bow.shape[0]"
   ]
  },
  {
   "cell_type": "markdown",
   "metadata": {},
   "source": [
    "The test data contains 84% positive sentiment reviews. So, if we were to naively classify all reviews as positive, then our model would achieve an accuracy of 84%. Therefore, this is the baseline that any model we create must beat. We have an imbalance in the classes. However, we will skip the handling class imbalance processes to focus on NLP modeling. However, as an intermediate step, techniques such as SMOTE, sub-sampling or oversampling can be applied."
   ]
  },
  {
   "cell_type": "markdown",
   "metadata": {},
   "source": [
    "### Applying logistic regression"
   ]
  },
  {
   "cell_type": "markdown",
   "metadata": {},
   "source": [
    "Let's train the model on our training data and run the resulting model on our test data:"
   ]
  },
  {
   "cell_type": "code",
   "execution_count": 30,
   "metadata": {},
   "outputs": [
    {
     "name": "stdout",
     "output_type": "stream",
     "text": [
      "F1 score:  0.9533248081841433\n"
     ]
    }
   ],
   "source": [
    "### Training the model \n",
    "lr_model_all = LogisticRegression() # Logistic regression\n",
    "lr_model_all.fit(X_train_bow, y_train_bow) # Fitting a logistic regression model\n",
    "\n",
    "## Predicting the output\n",
    "test_pred_lr_all = lr_model_all.predict(X_test_bow) # Class prediction\n",
    "\n",
    "## Calculate key performance metrics\n",
    "print(\"F1 score: \", f1_score(y_test_bow, test_pred_lr_all))"
   ]
  },
  {
   "cell_type": "markdown",
   "metadata": {},
   "source": [
    "Let's modify the set of features in the model to include bigrams, trigrams, and 4-grams:"
   ]
  },
  {
   "cell_type": "code",
   "execution_count": 31,
   "metadata": {},
   "outputs": [],
   "source": [
    "### Changes with respect to the previous code\n",
    "### 1. Increasing the n-grams from just having 1-gram to (1-gram, 2-gram, 3-gram, and 4-gram)\n",
    "### 2. Including the stopwords in the bag of words features\n",
    "\n",
    "bow_counts = CountVectorizer(tokenizer= word_tokenize,\n",
    "                             ngram_range=(1,4))\n",
    "\n",
    "bow_data = bow_counts.fit_transform(amazon_reviews.reviews_text_new)"
   ]
  },
  {
   "cell_type": "code",
   "execution_count": 32,
   "metadata": {},
   "outputs": [
    {
     "data": {
      "text/plain": [
       "<9138x1261413 sparse matrix of type '<class 'numpy.int64'>'\n",
       "\twith 2530528 stored elements in Compressed Sparse Row format>"
      ]
     },
     "execution_count": 32,
     "metadata": {},
     "output_type": "execute_result"
    }
   ],
   "source": [
    "# Notice the increase in features with inclusion of n-grams\n",
    "bow_data"
   ]
  },
  {
   "cell_type": "code",
   "execution_count": 33,
   "metadata": {},
   "outputs": [],
   "source": [
    "X_train_bow, X_test_bow, y_train_bow, y_test_bow = train_test_split(bow_data,\n",
    "                                                                    amazon_reviews['Sentiment_rating'],\n",
    "                                                                    test_size = 0.2,\n",
    "                                                                    random_state = 0)"
   ]
  },
  {
   "cell_type": "code",
   "execution_count": 34,
   "metadata": {},
   "outputs": [
    {
     "name": "stdout",
     "output_type": "stream",
     "text": [
      "F1 score:  0.9541745134965474\n"
     ]
    }
   ],
   "source": [
    "# Defining and training the model\n",
    "lr_model_all_new = LogisticRegression(max_iter = 200)\n",
    "lr_model_all_new.fit(X_train_bow, y_train_bow)\n",
    "\n",
    "# Predicting the results\n",
    "test_pred_lr_all = lr_model_all_new.predict(X_test_bow)\n",
    "\n",
    "print(\"F1 score: \", f1_score(y_test_bow,test_pred_lr_all))"
   ]
  },
  {
   "cell_type": "markdown",
   "metadata": {},
   "source": [
    "The F1-score has jumped slightly. This is an example of what simple hyperparameter tuning and input feature modification can do to the overall performance. We can even get interpretable features from this in terms of what contributed the most to positive and negative sentiment:"
   ]
  },
  {
   "cell_type": "code",
   "execution_count": 35,
   "metadata": {},
   "outputs": [
    {
     "data": {
      "text/html": [
       "<div>\n",
       "<style scoped>\n",
       "    .dataframe tbody tr th:only-of-type {\n",
       "        vertical-align: middle;\n",
       "    }\n",
       "\n",
       "    .dataframe tbody tr th {\n",
       "        vertical-align: top;\n",
       "    }\n",
       "\n",
       "    .dataframe thead th {\n",
       "        text-align: right;\n",
       "    }\n",
       "</style>\n",
       "<table border=\"1\" class=\"dataframe\">\n",
       "  <thead>\n",
       "    <tr style=\"text-align: right;\">\n",
       "      <th></th>\n",
       "      <th>words</th>\n",
       "      <th>weights</th>\n",
       "    </tr>\n",
       "  </thead>\n",
       "  <tbody>\n",
       "    <tr>\n",
       "      <th>448809</th>\n",
       "      <td>great</td>\n",
       "      <td>1.327899</td>\n",
       "    </tr>\n",
       "    <tr>\n",
       "      <th>305794</th>\n",
       "      <td>delicious</td>\n",
       "      <td>0.952278</td>\n",
       "    </tr>\n",
       "    <tr>\n",
       "      <th>810997</th>\n",
       "      <td>perfect</td>\n",
       "      <td>0.838283</td>\n",
       "    </tr>\n",
       "    <tr>\n",
       "      <th>438773</th>\n",
       "      <td>good</td>\n",
       "      <td>0.831941</td>\n",
       "    </tr>\n",
       "    <tr>\n",
       "      <th>1023733</th>\n",
       "      <td>the best</td>\n",
       "      <td>0.820474</td>\n",
       "    </tr>\n",
       "    <tr>\n",
       "      <th>358331</th>\n",
       "      <td>excellent</td>\n",
       "      <td>0.820415</td>\n",
       "    </tr>\n",
       "    <tr>\n",
       "      <th>171393</th>\n",
       "      <td>best</td>\n",
       "      <td>0.792800</td>\n",
       "    </tr>\n",
       "    <tr>\n",
       "      <th>639088</th>\n",
       "      <td>love</td>\n",
       "      <td>0.783770</td>\n",
       "    </tr>\n",
       "    <tr>\n",
       "      <th>709971</th>\n",
       "      <td>nice</td>\n",
       "      <td>0.769319</td>\n",
       "    </tr>\n",
       "    <tr>\n",
       "      <th>930961</th>\n",
       "      <td>smooth</td>\n",
       "      <td>0.637428</td>\n",
       "    </tr>\n",
       "    <tr>\n",
       "      <th>1237853</th>\n",
       "      <td>wonderful</td>\n",
       "      <td>0.635913</td>\n",
       "    </tr>\n",
       "    <tr>\n",
       "      <th>642547</th>\n",
       "      <td>loves</td>\n",
       "      <td>0.630588</td>\n",
       "    </tr>\n",
       "    <tr>\n",
       "      <th>724010</th>\n",
       "      <td>not too</td>\n",
       "      <td>0.602620</td>\n",
       "    </tr>\n",
       "    <tr>\n",
       "      <th>370041</th>\n",
       "      <td>favorite</td>\n",
       "      <td>0.595266</td>\n",
       "    </tr>\n",
       "    <tr>\n",
       "      <th>377546</th>\n",
       "      <td>find</td>\n",
       "      <td>0.584460</td>\n",
       "    </tr>\n",
       "  </tbody>\n",
       "</table>\n",
       "</div>"
      ],
      "text/plain": [
       "             words   weights\n",
       "448809       great  1.327899\n",
       "305794   delicious  0.952278\n",
       "810997     perfect  0.838283\n",
       "438773        good  0.831941\n",
       "1023733   the best  0.820474\n",
       "358331   excellent  0.820415\n",
       "171393        best  0.792800\n",
       "639088        love  0.783770\n",
       "709971        nice  0.769319\n",
       "930961      smooth  0.637428\n",
       "1237853  wonderful  0.635913\n",
       "642547       loves  0.630588\n",
       "724010     not too  0.602620\n",
       "370041    favorite  0.595266\n",
       "377546        find  0.584460"
      ]
     },
     "execution_count": 35,
     "metadata": {},
     "output_type": "execute_result"
    }
   ],
   "source": [
    "lr_weights = pd.DataFrame(list(zip(bow_counts.get_feature_names(), # ge tall the n-gram feature names\n",
    "                                   lr_model_all_new.coef_[0])), # get the logistic regression coefficients\n",
    "                          columns= ['words','weights']) # defining the colunm names\n",
    "\n",
    "lr_weights.sort_values(['weights'], ascending = False)[:15] # top-15 more important features for positive reviews"
   ]
  },
  {
   "cell_type": "code",
   "execution_count": 36,
   "metadata": {},
   "outputs": [
    {
     "data": {
      "text/html": [
       "<div>\n",
       "<style scoped>\n",
       "    .dataframe tbody tr th:only-of-type {\n",
       "        vertical-align: middle;\n",
       "    }\n",
       "\n",
       "    .dataframe tbody tr th {\n",
       "        vertical-align: top;\n",
       "    }\n",
       "\n",
       "    .dataframe thead th {\n",
       "        text-align: right;\n",
       "    }\n",
       "</style>\n",
       "<table border=\"1\" class=\"dataframe\">\n",
       "  <thead>\n",
       "    <tr style=\"text-align: right;\">\n",
       "      <th></th>\n",
       "      <th>words</th>\n",
       "      <th>weights</th>\n",
       "    </tr>\n",
       "  </thead>\n",
       "  <tbody>\n",
       "    <tr>\n",
       "      <th>1241695</th>\n",
       "      <td>worst</td>\n",
       "      <td>-0.542726</td>\n",
       "    </tr>\n",
       "    <tr>\n",
       "      <th>1175374</th>\n",
       "      <td>very disappointed</td>\n",
       "      <td>-0.558064</td>\n",
       "    </tr>\n",
       "    <tr>\n",
       "      <th>1206112</th>\n",
       "      <td>were</td>\n",
       "      <td>-0.564802</td>\n",
       "    </tr>\n",
       "    <tr>\n",
       "      <th>874505</th>\n",
       "      <td>return</td>\n",
       "      <td>-0.568145</td>\n",
       "    </tr>\n",
       "    <tr>\n",
       "      <th>143979</th>\n",
       "      <td>away</td>\n",
       "      <td>-0.573367</td>\n",
       "    </tr>\n",
       "    <tr>\n",
       "      <th>959625</th>\n",
       "      <td>stick</td>\n",
       "      <td>-0.585487</td>\n",
       "    </tr>\n",
       "    <tr>\n",
       "      <th>144964</th>\n",
       "      <td>awful</td>\n",
       "      <td>-0.593925</td>\n",
       "    </tr>\n",
       "    <tr>\n",
       "      <th>1193585</th>\n",
       "      <td>waste</td>\n",
       "      <td>-0.612399</td>\n",
       "    </tr>\n",
       "    <tr>\n",
       "      <th>317336</th>\n",
       "      <td>disappointing</td>\n",
       "      <td>-0.613680</td>\n",
       "    </tr>\n",
       "    <tr>\n",
       "      <th>982546</th>\n",
       "      <td>t</td>\n",
       "      <td>-0.674800</td>\n",
       "    </tr>\n",
       "    <tr>\n",
       "      <th>148156</th>\n",
       "      <td>bad</td>\n",
       "      <td>-0.693480</td>\n",
       "    </tr>\n",
       "    <tr>\n",
       "      <th>1201325</th>\n",
       "      <td>weak</td>\n",
       "      <td>-0.731748</td>\n",
       "    </tr>\n",
       "    <tr>\n",
       "      <th>352214</th>\n",
       "      <td>even</td>\n",
       "      <td>-0.793852</td>\n",
       "    </tr>\n",
       "    <tr>\n",
       "      <th>716808</th>\n",
       "      <td>not</td>\n",
       "      <td>-1.014957</td>\n",
       "    </tr>\n",
       "    <tr>\n",
       "      <th>316985</th>\n",
       "      <td>disappointed</td>\n",
       "      <td>-1.166396</td>\n",
       "    </tr>\n",
       "  </tbody>\n",
       "</table>\n",
       "</div>"
      ],
      "text/plain": [
       "                     words   weights\n",
       "1241695              worst -0.542726\n",
       "1175374  very disappointed -0.558064\n",
       "1206112               were -0.564802\n",
       "874505              return -0.568145\n",
       "143979                away -0.573367\n",
       "959625               stick -0.585487\n",
       "144964               awful -0.593925\n",
       "1193585              waste -0.612399\n",
       "317336       disappointing -0.613680\n",
       "982546                   t -0.674800\n",
       "148156                 bad -0.693480\n",
       "1201325               weak -0.731748\n",
       "352214                even -0.793852\n",
       "716808                 not -1.014957\n",
       "316985        disappointed -1.166396"
      ]
     },
     "execution_count": 36,
     "metadata": {},
     "output_type": "execute_result"
    }
   ],
   "source": [
    "lr_weights.sort_values(['weights'], ascending = False)[-15:] # top-15 more important features for negative reviews"
   ]
  },
  {
   "cell_type": "markdown",
   "metadata": {},
   "source": [
    "## TF-IDF model"
   ]
  },
  {
   "cell_type": "markdown",
   "metadata": {},
   "source": [
    "Of course, bag-of-words are not the only way to featurize text. Another method is the **Term Frequency-Inverse Document Frequency (TF-IDF)** method. This evaluates how important a word is to a document within a large collection of documents (i.e. corpus). The importance increases proportionally based on the number of times a word appears in the document but is offset by the frequency of the word in the corpus.\n",
    "\n",
    "The TF-IDF weight is the product of two terms. The first computes the normalized Term Frequency (TF); i.e. the number of times a word appears in a document divided by the total number of words in that document. The second term is the Inverse Document Frequency (IDF), computed as the logarithm of the number of the documents in the corpus divided by the number of documents where the specific term appears:"
   ]
  },
  {
   "cell_type": "markdown",
   "metadata": {},
   "source": [
    "<img src='images/tf-idf.png'>"
   ]
  },
  {
   "cell_type": "markdown",
   "metadata": {},
   "source": [
    "Let's re-featurize our original set of reviews based on TF-IDF and split the resulting features into train and test sets:"
   ]
  },
  {
   "cell_type": "code",
   "execution_count": 37,
   "metadata": {},
   "outputs": [],
   "source": [
    "from sklearn.feature_extraction.text import TfidfVectorizer\n",
    "\n",
    "### Creating a python object of the class CountVectorizer\n",
    "tfidf_counts = TfidfVectorizer(tokenizer= word_tokenize, # type of tokenization\n",
    "                               stop_words=noise_words, # List of stopwords\n",
    "                               ngram_range=(1,1)) # number of n-grams\n",
    "\n",
    "tfidf_data = tfidf_counts.fit_transform(amazon_reviews['reviews_text_new'])"
   ]
  },
  {
   "cell_type": "code",
   "execution_count": 38,
   "metadata": {},
   "outputs": [
    {
     "data": {
      "text/plain": [
       "<9138x18039 sparse matrix of type '<class 'numpy.float64'>'\n",
       "\twith 493450 stored elements in Compressed Sparse Row format>"
      ]
     },
     "execution_count": 38,
     "metadata": {},
     "output_type": "execute_result"
    }
   ],
   "source": [
    "tfidf_data"
   ]
  },
  {
   "cell_type": "code",
   "execution_count": 39,
   "metadata": {},
   "outputs": [],
   "source": [
    "X_train_tfidf, X_test_tfidf, y_train_tfidf, y_test_tfidf = train_test_split(tfidf_data,\n",
    "                                                                            amazon_reviews['Sentiment_rating'],\n",
    "                                                                            test_size = 0.2,\n",
    "                                                                            random_state = 0)"
   ]
  },
  {
   "cell_type": "markdown",
   "metadata": {},
   "source": [
    "### Applying logistic regression to TF-IDF features"
   ]
  },
  {
   "cell_type": "markdown",
   "metadata": {},
   "source": [
    "Let's apply logistic regression to the features created from TF-IDF:"
   ]
  },
  {
   "cell_type": "code",
   "execution_count": 40,
   "metadata": {},
   "outputs": [
    {
     "name": "stdout",
     "output_type": "stream",
     "text": [
      "F1 score:  0.9396341463414635\n"
     ]
    }
   ],
   "source": [
    "### Setting up the model class\n",
    "lr_model_tf_idf = LogisticRegression()\n",
    "\n",
    "## Training the model \n",
    "lr_model_tf_idf.fit(X_train_tfidf,y_train_tfidf)\n",
    "\n",
    "## Prediciting the results\n",
    "test_pred_lr_all = lr_model_tf_idf.predict(X_test_tfidf)\n",
    "\n",
    "## Evaluating the model\n",
    "print(\"F1 score: \",f1_score(y_test_bow, test_pred_lr_all))"
   ]
  },
  {
   "cell_type": "markdown",
   "metadata": {},
   "source": [
    "Here we have decresed slightly our F1 score value with TF-IDF as compared to the bag-of-words approach."
   ]
  },
  {
   "cell_type": "markdown",
   "metadata": {},
   "source": [
    "## Word embeddings model"
   ]
  },
  {
   "cell_type": "markdown",
   "metadata": {},
   "source": [
    "The final type of featurization we will cover are **word embeddings**. This is a type of word representation that allows words with similar meaning to have a similar representation. It is this approach to representing words and documents that may be considered one of the key breakthroughs of deep learning on challenging natural language processing problems. It is capable of capturing the context of a word in a document, its semantic and syntactic similarity, and its relation with other words. Word embeddings are in fact a class of techniques where individual words are represented as real-valued vectors in a predefined vector space."
   ]
  },
  {
   "cell_type": "markdown",
   "metadata": {},
   "source": [
    "In the following image, each of the words have been represented in 2-dimensions for simplicity. It can be clearly seen that words with similar context are grouped together – bathroom, kitchen, bathtub are grouped together, while microwave, refrigerator, oven form another group, etc."
   ]
  },
  {
   "cell_type": "code",
   "execution_count": 41,
   "metadata": {},
   "outputs": [],
   "source": [
    "from IPython.display import Image\n",
    "from IPython.core.display import HTML"
   ]
  },
  {
   "cell_type": "markdown",
   "metadata": {},
   "source": [
    "<img src='images/wembeddings.png'>\n",
    "Image source: https://medium.com/@rohit_agrawal/using-fine-tuned-gensim-word2vec-embeddings-with-torchtext-and-pytorch-17eea2883cd "
   ]
  },
  {
   "cell_type": "markdown",
   "metadata": {},
   "source": [
    "There are different methods to learn word embeddings, such as Word2Vec, GloVe, FastText, spectral embedding, and UMAP, among others:\n",
    "- **Word2Vec:** uses a shallow Neural Network.\n",
    "- **GloVe:** is an unsupervised learning algorithm for obtaining vector representations for words. Training is performed on aggregated global word-word co-occurrence statistics from a corpus, and the resulting representations showcase interesting linear substructures of the word vector space. \n",
    "- **FastText:** is a library for learning of word embeddings and text classification created by Facebook's AI Research lab.\n",
    "- **Spectral embedding:** is a dimensionality reduction technique that forms a affinity matrix applying a spectral decomposition.\n",
    "- **UMAP:** the Uniform Manifold Approximation and Projection is a dimension reduction technique used for general non-linear dimension reduction procedures."
   ]
  },
  {
   "cell_type": "markdown",
   "metadata": {},
   "source": [
    "### Why use word embeddings over bag-of-words and TF-IDF?\n",
    "\n",
    "Each word is represented by a real-valued vector, which generally has tens or hundreds of dimensions. This is in contrast to he thousands or millions of dimensions required for sparse word representations. Thus, word embeddings can drastically reduce the number of dimensions required for representing a text document:"
   ]
  },
  {
   "cell_type": "code",
   "execution_count": 42,
   "metadata": {},
   "outputs": [],
   "source": [
    "import gensim"
   ]
  },
  {
   "cell_type": "markdown",
   "metadata": {},
   "source": [
    "We will be working with a pre-trained word2vec model from twitter (available at: https://drive.google.com/file/d/1GpHOJv3QXHcpTXfC0q-xwkPrVrjWeM1d/view):"
   ]
  },
  {
   "cell_type": "code",
   "execution_count": 45,
   "metadata": {},
   "outputs": [],
   "source": [
    "### Loading a pre-trained glove word embedding that is trained on twitter dataset \n",
    "### This word embedding is 200 dimensional in lenght (200 features per term)\n",
    "### Source: https://nlp.stanford.edu/projects/glove/\n",
    "\n",
    "model = gensim.models.KeyedVectors.load_word2vec_format(\n",
    "    os.path.join(\n",
    "        os.getcwd(), \n",
    "        'Twitter_Glove_pretrained.txt'),\n",
    "    binary=False,\n",
    "    unicode_errors='ignore')"
   ]
  },
  {
   "cell_type": "markdown",
   "metadata": {},
   "source": [
    "To generate a model like the one we are importing, you can uncomment and execute the following commented code cell (be aware of the computational expense that the instructions might take (>2h processing)):"
   ]
  },
  {
   "cell_type": "code",
   "execution_count": 46,
   "metadata": {},
   "outputs": [],
   "source": [
    "# from gensim.models.fasttext import FastText\n",
    "\n",
    "# # Set values for various parameters\n",
    "# feature_size = 200   # Word vector dimensionality  \n",
    "# min_word_count = 1   # Minimum word count                        \n",
    "# sample = 1e-3        # Downsample setting for frequent words\n",
    "# iter = 5000          # Represents the number of epochs\n",
    "\n",
    "# tokenized_corpus = [nltk.word_tokenize(doc) for doc in amazon_reviews['reviews_text_new']]\n",
    "# ft_model = FastText(tokenized_corpus, size=feature_size, \n",
    "#                      min_count = min_word_count, sample=sample, \n",
    "#                      iter=5000)\n",
    "\n",
    "# ft_model.save_model(\"model_filename.bin\") # Saving the model\n",
    "# model = fasttext.load_model(\"model_filename.bin\") # Loading the model"
   ]
  },
  {
   "cell_type": "markdown",
   "metadata": {},
   "source": [
    "We had approximately 18,000 distinct tokens for 1-gram features in the bag-of-words representation, yet will only have 200 dimensions in this word embedding. This is a huge difference! Moreover, word embeddings capture the context and semantics of the sentences since each word vector representation is itself based on its contextual meaning.\n",
    "\n",
    "Below is the vector representation for \"food\" and \"great\":"
   ]
  },
  {
   "cell_type": "code",
   "execution_count": 47,
   "metadata": {},
   "outputs": [
    {
     "name": "stdout",
     "output_type": "stream",
     "text": [
      "The embedding for food is 200 dimensional\n"
     ]
    },
    {
     "data": {
      "text/plain": [
       "array([-6.9175e-01, -1.4259e-01,  3.8653e-01, -2.3141e-01, -2.0408e-01,\n",
       "       -2.1565e-01,  7.7839e-01,  2.2689e-03, -7.2446e-02, -6.0134e-01,\n",
       "       -4.2400e-01, -5.7140e-01, -8.4249e-01,  1.5947e-01, -1.2899e-01,\n",
       "        5.9032e-01, -1.3632e-01, -6.6478e-01, -1.9557e-01, -8.2453e-01,\n",
       "       -1.3177e-01,  1.3514e-01, -7.3214e-01,  4.8200e-01,  4.3505e-01,\n",
       "        1.6676e+00, -1.8275e-01, -1.0007e-01,  3.7003e-01,  1.0411e-01,\n",
       "       -8.8115e-01, -9.7733e-04, -2.9459e-01, -7.3869e-02, -4.0103e-01,\n",
       "       -4.6626e-01,  2.3253e-01,  2.7776e-01,  4.0754e-01, -4.5051e-02,\n",
       "       -1.9468e-01, -2.9230e-01, -3.4642e-01, -4.9286e-01,  1.0467e-01,\n",
       "        7.2143e-01,  5.9596e-01,  5.3495e-01,  3.8788e-02, -1.4406e-01,\n",
       "       -5.2248e-02, -6.8292e-01, -1.0080e-01, -1.2961e-01, -2.6006e-02,\n",
       "        1.4836e-01,  3.2417e-02,  1.3997e-01,  8.3943e-03, -2.3139e-01,\n",
       "       -1.8000e-01, -3.1689e-01,  2.3606e-01,  1.8237e-01,  4.3933e-01,\n",
       "       -3.2313e-01, -2.1512e-03, -4.4172e-01,  4.1011e-01,  1.7174e-01,\n",
       "       -8.6405e-01, -3.9674e-01,  4.4175e-01,  5.9300e-01,  1.8982e-01,\n",
       "       -2.9646e-02, -3.4041e-01, -3.3708e-02,  7.3449e-01,  4.5300e-01,\n",
       "       -2.7855e-02, -1.8993e-02,  3.8107e-01, -5.6606e-02,  1.4864e-02,\n",
       "        3.1518e-01, -3.2304e-01, -2.7439e-01,  6.1900e-02,  3.2886e-01,\n",
       "        1.5138e-01,  5.3268e-01, -1.6616e-01, -2.3076e-01, -9.6515e-02,\n",
       "        4.5991e-01, -5.1475e-01,  1.0297e-01, -4.0225e-02,  5.6679e-01,\n",
       "        3.1027e-01,  1.5679e-01, -2.5897e-01,  4.6312e-01,  2.2561e-01,\n",
       "       -3.9300e-01, -3.9593e-01,  4.4001e-01,  3.7176e-01,  1.4747e-02,\n",
       "       -1.9193e-01, -2.2478e-01, -1.2665e-01, -3.4982e-01,  5.0847e-01,\n",
       "        3.1720e-01,  1.2942e-01, -6.2695e-01,  5.8675e-01,  4.1040e-02,\n",
       "        1.8835e-01, -2.2626e-01, -1.1744e-01,  5.1429e-03,  7.2058e-02,\n",
       "       -4.9525e-01,  4.4159e-01,  8.6225e-01,  7.6765e-02, -9.7908e-02,\n",
       "        6.8383e-02,  3.0596e-01,  3.7980e-01,  1.1563e-01, -6.1020e-01,\n",
       "       -6.8107e-01,  3.2723e-02,  2.5346e-01,  3.5334e-01,  2.5407e-01,\n",
       "       -4.6516e-01,  4.8858e-01,  3.9032e-01, -8.1296e-01, -6.9780e-01,\n",
       "       -1.2542e-01,  7.9234e-02,  1.2918e-01, -1.1048e-01,  8.9312e-03,\n",
       "        3.6999e-01,  3.0116e-01, -4.6578e+00, -4.4493e-03,  2.0313e-02,\n",
       "       -5.0215e-02, -2.0646e-01, -3.7321e-02, -5.1779e-02,  6.6986e-02,\n",
       "       -5.8853e-01,  7.1753e-01,  4.2784e-02,  1.6667e-03, -2.6193e-01,\n",
       "        5.8214e-01, -1.0513e+00, -3.0341e-02,  7.3892e-01, -1.8003e-01,\n",
       "       -1.1104e-01,  3.0846e-01,  4.4027e-01, -8.4080e-02, -2.6251e-01,\n",
       "       -3.8733e-01, -2.6630e-01,  1.9655e-01,  5.3812e-02, -2.4456e-01,\n",
       "       -7.8868e-01, -7.1843e-01,  7.0593e-02, -1.9051e-01,  2.5553e-01,\n",
       "       -1.3786e-01,  1.2942e-01,  4.5864e-01,  5.5462e-01,  8.2104e-01,\n",
       "       -2.5049e-01, -3.3623e-01,  1.8491e-01, -4.8235e-01,  3.1425e-01,\n",
       "        2.4499e-01, -2.4404e-01,  8.0309e-02,  3.4060e-01,  7.0451e-01],\n",
       "      dtype=float32)"
      ]
     },
     "execution_count": 47,
     "metadata": {},
     "output_type": "execute_result"
    }
   ],
   "source": [
    "print(\"The embedding for food is\", len(model['food']), \"dimensional\")\n",
    "model['food']"
   ]
  },
  {
   "cell_type": "code",
   "execution_count": 48,
   "metadata": {},
   "outputs": [
    {
     "name": "stdout",
     "output_type": "stream",
     "text": [
      "The embedding for great is 200 dimensional\n"
     ]
    },
    {
     "data": {
      "text/plain": [
       "array([ 1.0751e-01,  1.5958e-01,  1.3332e-01,  1.6642e-01, -3.2737e-02,\n",
       "        1.7592e-01,  7.2395e-01,  1.1713e-01, -3.5036e-01, -4.2937e-01,\n",
       "       -4.0925e-01, -2.5761e-01, -1.0264e+00, -1.0014e-01,  5.5390e-02,\n",
       "        2.0413e-01,  1.2807e-01, -2.6337e-02, -6.9719e-02, -3.6193e-02,\n",
       "       -1.9917e-01,  3.9437e-02, -9.2358e-02,  2.6981e-01, -2.0951e-01,\n",
       "        1.5455e+00, -2.8123e-01,  3.2046e-01,  4.5545e-01, -3.8841e-02,\n",
       "       -1.7369e-01, -2.3251e-01, -5.9551e-02,  2.3250e-01,  4.4214e-01,\n",
       "        3.3666e-01,  3.9352e-02, -1.2462e-01, -2.9317e-01, -4.8857e-02,\n",
       "        6.9021e-01,  7.1279e-02,  1.0252e-01,  1.6122e-01, -2.3536e-01,\n",
       "        6.2724e-02,  2.0222e-01,  5.0234e-02, -1.1611e-01,  2.8909e-02,\n",
       "       -1.1109e-01, -5.0241e-02, -5.9063e-01, -8.8747e-02,  5.1444e-01,\n",
       "       -1.3715e-01,  1.7194e-01, -8.3657e-02,  9.6333e-02, -9.7063e-02,\n",
       "        3.4003e-03, -7.0180e-02, -5.9588e-01, -2.8264e-01,  1.2529e-01,\n",
       "        2.4359e-01, -4.9082e-01, -4.2533e-02,  2.2158e-01, -2.1491e-01,\n",
       "       -4.2101e-02,  2.3359e-01,  3.1978e-01,  3.5063e-01,  6.1748e-01,\n",
       "       -1.0197e-01,  5.3357e-01, -3.6005e-01, -1.7212e-02,  1.6645e-01,\n",
       "        8.9432e-01,  2.7322e-02,  3.0683e-01,  1.9715e-02,  6.0516e-01,\n",
       "        4.1085e-01,  5.5945e-01, -8.4501e-02,  3.5933e-01,  1.0216e-01,\n",
       "        2.6675e-01, -6.0445e-01, -1.0513e-01, -1.9248e-01,  2.9150e-01,\n",
       "       -1.0537e-01,  5.2671e-01,  2.3763e-01, -1.3640e-01, -6.1029e-02,\n",
       "        1.0081e-01,  7.4541e-02, -1.4899e-01, -2.2301e-01, -1.3653e-02,\n",
       "        4.0192e-02,  5.5821e-03, -2.9936e-02,  2.7338e-02,  5.9412e-01,\n",
       "       -1.0302e-01,  9.0319e-02,  3.1055e-01,  6.3336e-01,  2.9762e-01,\n",
       "       -8.4671e-02, -1.2552e-01, -6.3930e-01,  3.8613e-01,  6.6371e-01,\n",
       "        5.1345e-01,  2.0719e-01,  2.1100e-01,  1.4579e-01, -7.3321e-02,\n",
       "       -7.0593e-01, -6.2578e-02, -2.5470e-01,  1.1986e-01,  1.6102e-01,\n",
       "        3.2958e-02, -2.4159e-01, -2.5708e-01,  3.2051e-01, -1.1569e-01,\n",
       "        6.7540e-03, -1.1688e-01, -3.6158e-02, -6.5320e-01,  4.9560e-01,\n",
       "       -3.9429e-02, -1.8395e-01,  2.3295e-01,  5.4128e-01,  2.4568e-02,\n",
       "       -1.9862e-01,  2.1041e-01,  9.3798e-02,  8.3096e-03, -6.1551e-02,\n",
       "        2.3262e-01, -4.2756e-02, -5.3511e+00,  3.0604e-01,  3.3578e-01,\n",
       "       -3.6771e-01,  5.6225e-01, -8.2341e-02,  2.9809e-01,  2.5189e-01,\n",
       "       -4.6203e-01,  1.0452e-01, -3.9540e-01,  3.6961e-01,  1.3093e-01,\n",
       "        1.6653e-01, -3.1915e-01,  1.6974e-01,  4.2575e-01,  3.6420e-01,\n",
       "        3.7175e-01, -1.9450e-01,  6.2702e-02,  4.9775e-01,  3.1842e-02,\n",
       "       -6.4072e-02,  7.6183e-02, -5.9534e-01,  3.1731e-01, -2.8254e-01,\n",
       "        1.5987e-01, -9.2750e-02, -4.1426e-02,  7.5799e-02,  9.5740e-03,\n",
       "       -2.1532e-01, -3.1419e-01, -1.5144e-01, -4.6584e-01, -1.1069e-01,\n",
       "       -4.0130e-01,  3.9266e-02,  8.1880e-01, -4.2955e-02,  2.1698e-01,\n",
       "       -6.0347e-02,  3.3431e-01, -9.9549e-02, -1.8156e-01, -8.5143e-02],\n",
       "      dtype=float32)"
      ]
     },
     "execution_count": 48,
     "metadata": {},
     "output_type": "execute_result"
    }
   ],
   "source": [
    "print(\"The embedding for great is\", len(model['great']), \"dimensional\")\n",
    "model['great']"
   ]
  },
  {
   "cell_type": "markdown",
   "metadata": {},
   "source": [
    "To find the vector for an entire review, we get the vector for each word in the review separately and take a simple average."
   ]
  },
  {
   "cell_type": "markdown",
   "metadata": {},
   "source": [
    "Let's calculate the vector for every single review in the dataset:"
   ]
  },
  {
   "cell_type": "code",
   "execution_count": 49,
   "metadata": {},
   "outputs": [],
   "source": [
    "# List for adding each average rperesentation per observation\n",
    "review_embeddings = []\n",
    "\n",
    "## Review_average\n",
    "Review_average = np.zeros(model.vector_size)\n",
    "\n",
    "# For each review in the review's dataset\n",
    "for each_review in amazon_reviews['reviews_text_new']:\n",
    "    \n",
    "    count_val = 0\n",
    "    \n",
    "    # For each worn in the review\n",
    "    for each_word in word_tokenize(each_review):     \n",
    "        if(each_word.lower() in model):\n",
    "            Review_average += model[each_word.lower()]\n",
    "            count_val += 1\n",
    "    \n",
    "    review_embeddings.append(list(Review_average/count_val))"
   ]
  },
  {
   "cell_type": "markdown",
   "metadata": {},
   "source": [
    "Let's convert the list of vector representations for each review into a DataFrame and split it into train and test sets:"
   ]
  },
  {
   "cell_type": "code",
   "execution_count": 50,
   "metadata": {},
   "outputs": [
    {
     "data": {
      "text/html": [
       "<div>\n",
       "<style scoped>\n",
       "    .dataframe tbody tr th:only-of-type {\n",
       "        vertical-align: middle;\n",
       "    }\n",
       "\n",
       "    .dataframe tbody tr th {\n",
       "        vertical-align: top;\n",
       "    }\n",
       "\n",
       "    .dataframe thead th {\n",
       "        text-align: right;\n",
       "    }\n",
       "</style>\n",
       "<table border=\"1\" class=\"dataframe\">\n",
       "  <thead>\n",
       "    <tr style=\"text-align: right;\">\n",
       "      <th></th>\n",
       "      <th>0</th>\n",
       "      <th>1</th>\n",
       "      <th>2</th>\n",
       "      <th>3</th>\n",
       "      <th>4</th>\n",
       "      <th>5</th>\n",
       "      <th>6</th>\n",
       "      <th>7</th>\n",
       "      <th>8</th>\n",
       "      <th>9</th>\n",
       "      <th>...</th>\n",
       "      <th>190</th>\n",
       "      <th>191</th>\n",
       "      <th>192</th>\n",
       "      <th>193</th>\n",
       "      <th>194</th>\n",
       "      <th>195</th>\n",
       "      <th>196</th>\n",
       "      <th>197</th>\n",
       "      <th>198</th>\n",
       "      <th>199</th>\n",
       "    </tr>\n",
       "  </thead>\n",
       "  <tbody>\n",
       "    <tr>\n",
       "      <th>0</th>\n",
       "      <td>0.017031</td>\n",
       "      <td>0.073933</td>\n",
       "      <td>0.044372</td>\n",
       "      <td>0.345686</td>\n",
       "      <td>-0.054879</td>\n",
       "      <td>0.128388</td>\n",
       "      <td>0.516738</td>\n",
       "      <td>-0.051841</td>\n",
       "      <td>-0.170889</td>\n",
       "      <td>-0.215053</td>\n",
       "      <td>...</td>\n",
       "      <td>-0.148464</td>\n",
       "      <td>0.069972</td>\n",
       "      <td>0.180464</td>\n",
       "      <td>0.072243</td>\n",
       "      <td>0.058429</td>\n",
       "      <td>-0.042165</td>\n",
       "      <td>0.102130</td>\n",
       "      <td>0.102651</td>\n",
       "      <td>-0.027328</td>\n",
       "      <td>0.045897</td>\n",
       "    </tr>\n",
       "    <tr>\n",
       "      <th>1</th>\n",
       "      <td>0.004867</td>\n",
       "      <td>0.234855</td>\n",
       "      <td>0.081459</td>\n",
       "      <td>0.800303</td>\n",
       "      <td>-0.175189</td>\n",
       "      <td>0.491553</td>\n",
       "      <td>1.240453</td>\n",
       "      <td>-0.123022</td>\n",
       "      <td>-0.152865</td>\n",
       "      <td>-0.495640</td>\n",
       "      <td>...</td>\n",
       "      <td>-0.294793</td>\n",
       "      <td>0.156971</td>\n",
       "      <td>0.302243</td>\n",
       "      <td>0.136332</td>\n",
       "      <td>0.077925</td>\n",
       "      <td>-0.178687</td>\n",
       "      <td>0.319638</td>\n",
       "      <td>0.329597</td>\n",
       "      <td>-0.010736</td>\n",
       "      <td>-0.045276</td>\n",
       "    </tr>\n",
       "    <tr>\n",
       "      <th>2</th>\n",
       "      <td>0.054898</td>\n",
       "      <td>0.121937</td>\n",
       "      <td>0.086319</td>\n",
       "      <td>0.452975</td>\n",
       "      <td>-0.100278</td>\n",
       "      <td>0.330602</td>\n",
       "      <td>0.828519</td>\n",
       "      <td>-0.135867</td>\n",
       "      <td>-0.220501</td>\n",
       "      <td>-0.445102</td>\n",
       "      <td>...</td>\n",
       "      <td>-0.252651</td>\n",
       "      <td>0.168930</td>\n",
       "      <td>0.193142</td>\n",
       "      <td>0.118796</td>\n",
       "      <td>0.071619</td>\n",
       "      <td>-0.202528</td>\n",
       "      <td>0.298770</td>\n",
       "      <td>0.185984</td>\n",
       "      <td>-0.064427</td>\n",
       "      <td>-0.042747</td>\n",
       "    </tr>\n",
       "    <tr>\n",
       "      <th>3</th>\n",
       "      <td>0.121080</td>\n",
       "      <td>0.415778</td>\n",
       "      <td>0.208763</td>\n",
       "      <td>1.150782</td>\n",
       "      <td>-0.285192</td>\n",
       "      <td>0.832986</td>\n",
       "      <td>2.195385</td>\n",
       "      <td>-0.337402</td>\n",
       "      <td>-0.621329</td>\n",
       "      <td>-1.226587</td>\n",
       "      <td>...</td>\n",
       "      <td>-0.687255</td>\n",
       "      <td>0.431361</td>\n",
       "      <td>0.537418</td>\n",
       "      <td>0.322497</td>\n",
       "      <td>0.098490</td>\n",
       "      <td>-0.426390</td>\n",
       "      <td>0.690071</td>\n",
       "      <td>0.534326</td>\n",
       "      <td>-0.124685</td>\n",
       "      <td>-0.199035</td>\n",
       "    </tr>\n",
       "    <tr>\n",
       "      <th>4</th>\n",
       "      <td>0.197436</td>\n",
       "      <td>0.701286</td>\n",
       "      <td>0.429690</td>\n",
       "      <td>1.899491</td>\n",
       "      <td>-0.479943</td>\n",
       "      <td>1.313881</td>\n",
       "      <td>3.710398</td>\n",
       "      <td>-0.582405</td>\n",
       "      <td>-1.249420</td>\n",
       "      <td>-2.059263</td>\n",
       "      <td>...</td>\n",
       "      <td>-1.146727</td>\n",
       "      <td>0.863788</td>\n",
       "      <td>1.067669</td>\n",
       "      <td>0.384649</td>\n",
       "      <td>0.358384</td>\n",
       "      <td>-0.715020</td>\n",
       "      <td>1.157039</td>\n",
       "      <td>0.889476</td>\n",
       "      <td>-0.126488</td>\n",
       "      <td>-0.355712</td>\n",
       "    </tr>\n",
       "    <tr>\n",
       "      <th>...</th>\n",
       "      <td>...</td>\n",
       "      <td>...</td>\n",
       "      <td>...</td>\n",
       "      <td>...</td>\n",
       "      <td>...</td>\n",
       "      <td>...</td>\n",
       "      <td>...</td>\n",
       "      <td>...</td>\n",
       "      <td>...</td>\n",
       "      <td>...</td>\n",
       "      <td>...</td>\n",
       "      <td>...</td>\n",
       "      <td>...</td>\n",
       "      <td>...</td>\n",
       "      <td>...</td>\n",
       "      <td>...</td>\n",
       "      <td>...</td>\n",
       "      <td>...</td>\n",
       "      <td>...</td>\n",
       "      <td>...</td>\n",
       "      <td>...</td>\n",
       "    </tr>\n",
       "    <tr>\n",
       "      <th>9133</th>\n",
       "      <td>-46.262026</td>\n",
       "      <td>549.113219</td>\n",
       "      <td>411.154716</td>\n",
       "      <td>1384.951148</td>\n",
       "      <td>-468.010915</td>\n",
       "      <td>1175.151251</td>\n",
       "      <td>4166.656854</td>\n",
       "      <td>-684.511448</td>\n",
       "      <td>-969.302577</td>\n",
       "      <td>-1631.833533</td>\n",
       "      <td>...</td>\n",
       "      <td>-1119.288914</td>\n",
       "      <td>548.180227</td>\n",
       "      <td>803.262467</td>\n",
       "      <td>72.233662</td>\n",
       "      <td>151.366317</td>\n",
       "      <td>-527.599798</td>\n",
       "      <td>992.601517</td>\n",
       "      <td>1216.900516</td>\n",
       "      <td>-151.632963</td>\n",
       "      <td>-82.007893</td>\n",
       "    </tr>\n",
       "    <tr>\n",
       "      <th>9134</th>\n",
       "      <td>-40.695678</td>\n",
       "      <td>482.963213</td>\n",
       "      <td>361.680872</td>\n",
       "      <td>1218.239158</td>\n",
       "      <td>-411.665424</td>\n",
       "      <td>1033.726995</td>\n",
       "      <td>3665.057244</td>\n",
       "      <td>-602.113941</td>\n",
       "      <td>-852.594775</td>\n",
       "      <td>-1435.428782</td>\n",
       "      <td>...</td>\n",
       "      <td>-984.518924</td>\n",
       "      <td>482.161553</td>\n",
       "      <td>706.629380</td>\n",
       "      <td>63.624305</td>\n",
       "      <td>133.097164</td>\n",
       "      <td>-464.049121</td>\n",
       "      <td>873.125890</td>\n",
       "      <td>1070.432422</td>\n",
       "      <td>-133.306181</td>\n",
       "      <td>-72.186908</td>\n",
       "    </tr>\n",
       "    <tr>\n",
       "      <th>9135</th>\n",
       "      <td>-19.798611</td>\n",
       "      <td>235.852405</td>\n",
       "      <td>176.647535</td>\n",
       "      <td>594.976721</td>\n",
       "      <td>-201.029682</td>\n",
       "      <td>504.821211</td>\n",
       "      <td>1789.863001</td>\n",
       "      <td>-294.001505</td>\n",
       "      <td>-416.384191</td>\n",
       "      <td>-701.022258</td>\n",
       "      <td>...</td>\n",
       "      <td>-480.786358</td>\n",
       "      <td>235.451227</td>\n",
       "      <td>345.113985</td>\n",
       "      <td>31.071044</td>\n",
       "      <td>64.990887</td>\n",
       "      <td>-226.635431</td>\n",
       "      <td>426.379239</td>\n",
       "      <td>522.786156</td>\n",
       "      <td>-65.121339</td>\n",
       "      <td>-35.257320</td>\n",
       "    </tr>\n",
       "    <tr>\n",
       "      <th>9136</th>\n",
       "      <td>-146.306978</td>\n",
       "      <td>1743.480751</td>\n",
       "      <td>1305.778995</td>\n",
       "      <td>4397.761539</td>\n",
       "      <td>-1485.894361</td>\n",
       "      <td>3731.462010</td>\n",
       "      <td>13229.850786</td>\n",
       "      <td>-2173.108542</td>\n",
       "      <td>-3077.622440</td>\n",
       "      <td>-5181.587794</td>\n",
       "      <td>...</td>\n",
       "      <td>-3553.801068</td>\n",
       "      <td>1740.283367</td>\n",
       "      <td>2550.932181</td>\n",
       "      <td>229.512778</td>\n",
       "      <td>480.259064</td>\n",
       "      <td>-1675.204836</td>\n",
       "      <td>3151.599401</td>\n",
       "      <td>3864.226200</td>\n",
       "      <td>-481.566499</td>\n",
       "      <td>-260.574083</td>\n",
       "    </tr>\n",
       "    <tr>\n",
       "      <th>9137</th>\n",
       "      <td>-17.345527</td>\n",
       "      <td>207.852382</td>\n",
       "      <td>155.676798</td>\n",
       "      <td>524.215054</td>\n",
       "      <td>-177.117394</td>\n",
       "      <td>444.810918</td>\n",
       "      <td>1577.065730</td>\n",
       "      <td>-259.022400</td>\n",
       "      <td>-366.898491</td>\n",
       "      <td>-617.641617</td>\n",
       "      <td>...</td>\n",
       "      <td>-423.605345</td>\n",
       "      <td>207.382888</td>\n",
       "      <td>304.125571</td>\n",
       "      <td>27.397745</td>\n",
       "      <td>57.208790</td>\n",
       "      <td>-199.725738</td>\n",
       "      <td>375.667560</td>\n",
       "      <td>460.712902</td>\n",
       "      <td>-57.402991</td>\n",
       "      <td>-31.052876</td>\n",
       "    </tr>\n",
       "  </tbody>\n",
       "</table>\n",
       "<p>9138 rows × 200 columns</p>\n",
       "</div>"
      ],
      "text/plain": [
       "             0            1            2            3            4    \\\n",
       "0       0.017031     0.073933     0.044372     0.345686    -0.054879   \n",
       "1       0.004867     0.234855     0.081459     0.800303    -0.175189   \n",
       "2       0.054898     0.121937     0.086319     0.452975    -0.100278   \n",
       "3       0.121080     0.415778     0.208763     1.150782    -0.285192   \n",
       "4       0.197436     0.701286     0.429690     1.899491    -0.479943   \n",
       "...          ...          ...          ...          ...          ...   \n",
       "9133  -46.262026   549.113219   411.154716  1384.951148  -468.010915   \n",
       "9134  -40.695678   482.963213   361.680872  1218.239158  -411.665424   \n",
       "9135  -19.798611   235.852405   176.647535   594.976721  -201.029682   \n",
       "9136 -146.306978  1743.480751  1305.778995  4397.761539 -1485.894361   \n",
       "9137  -17.345527   207.852382   155.676798   524.215054  -177.117394   \n",
       "\n",
       "              5             6            7            8            9    ...  \\\n",
       "0        0.128388      0.516738    -0.051841    -0.170889    -0.215053  ...   \n",
       "1        0.491553      1.240453    -0.123022    -0.152865    -0.495640  ...   \n",
       "2        0.330602      0.828519    -0.135867    -0.220501    -0.445102  ...   \n",
       "3        0.832986      2.195385    -0.337402    -0.621329    -1.226587  ...   \n",
       "4        1.313881      3.710398    -0.582405    -1.249420    -2.059263  ...   \n",
       "...           ...           ...          ...          ...          ...  ...   \n",
       "9133  1175.151251   4166.656854  -684.511448  -969.302577 -1631.833533  ...   \n",
       "9134  1033.726995   3665.057244  -602.113941  -852.594775 -1435.428782  ...   \n",
       "9135   504.821211   1789.863001  -294.001505  -416.384191  -701.022258  ...   \n",
       "9136  3731.462010  13229.850786 -2173.108542 -3077.622440 -5181.587794  ...   \n",
       "9137   444.810918   1577.065730  -259.022400  -366.898491  -617.641617  ...   \n",
       "\n",
       "              190          191          192         193         194  \\\n",
       "0       -0.148464     0.069972     0.180464    0.072243    0.058429   \n",
       "1       -0.294793     0.156971     0.302243    0.136332    0.077925   \n",
       "2       -0.252651     0.168930     0.193142    0.118796    0.071619   \n",
       "3       -0.687255     0.431361     0.537418    0.322497    0.098490   \n",
       "4       -1.146727     0.863788     1.067669    0.384649    0.358384   \n",
       "...           ...          ...          ...         ...         ...   \n",
       "9133 -1119.288914   548.180227   803.262467   72.233662  151.366317   \n",
       "9134  -984.518924   482.161553   706.629380   63.624305  133.097164   \n",
       "9135  -480.786358   235.451227   345.113985   31.071044   64.990887   \n",
       "9136 -3553.801068  1740.283367  2550.932181  229.512778  480.259064   \n",
       "9137  -423.605345   207.382888   304.125571   27.397745   57.208790   \n",
       "\n",
       "              195          196          197         198         199  \n",
       "0       -0.042165     0.102130     0.102651   -0.027328    0.045897  \n",
       "1       -0.178687     0.319638     0.329597   -0.010736   -0.045276  \n",
       "2       -0.202528     0.298770     0.185984   -0.064427   -0.042747  \n",
       "3       -0.426390     0.690071     0.534326   -0.124685   -0.199035  \n",
       "4       -0.715020     1.157039     0.889476   -0.126488   -0.355712  \n",
       "...           ...          ...          ...         ...         ...  \n",
       "9133  -527.599798   992.601517  1216.900516 -151.632963  -82.007893  \n",
       "9134  -464.049121   873.125890  1070.432422 -133.306181  -72.186908  \n",
       "9135  -226.635431   426.379239   522.786156  -65.121339  -35.257320  \n",
       "9136 -1675.204836  3151.599401  3864.226200 -481.566499 -260.574083  \n",
       "9137  -199.725738   375.667560   460.712902  -57.402991  -31.052876  \n",
       "\n",
       "[9138 rows x 200 columns]"
      ]
     },
     "execution_count": 50,
     "metadata": {},
     "output_type": "execute_result"
    }
   ],
   "source": [
    "# Converting to a DataFrame object\n",
    "embedding_data = pd.DataFrame(review_embeddings)\n",
    "\n",
    "# Filling null values\n",
    "# Null values are the ones that the Twitter pre-trained model is not considering (few of them)\n",
    "embedding_data = embedding_data.fillna(0)\n",
    "embedding_data"
   ]
  },
  {
   "cell_type": "code",
   "execution_count": 51,
   "metadata": {},
   "outputs": [],
   "source": [
    "X_train_embed, X_test_embed, y_train_embed, y_test_embed = train_test_split(embedding_data,\n",
    "                                                                            amazon_reviews['Sentiment_rating'],\n",
    "                                                                            test_size = 0.2,\n",
    "                                                                            random_state = 0)"
   ]
  },
  {
   "cell_type": "markdown",
   "metadata": {},
   "source": [
    "Let's now apply logistic regression to our word embeddings representation:"
   ]
  },
  {
   "cell_type": "code",
   "execution_count": 52,
   "metadata": {},
   "outputs": [
    {
     "name": "stdout",
     "output_type": "stream",
     "text": [
      "F1 score:  0.9177027827116636\n"
     ]
    }
   ],
   "source": [
    "lr_model_all.fit(X_train_embed, y_train_embed)\n",
    "test_pred_lr_all = lr_model_all.predict(X_test_embed)\n",
    "\n",
    "print(\"F1 score: \",f1_score(y_test_embed, test_pred_lr_all))"
   ]
  },
  {
   "cell_type": "markdown",
   "metadata": {},
   "source": [
    "Unfortunately, this is not as good as either the bag-of-words or TF-IDF representations. Furthermore, although word embeddings was really effective at reducing the overall number of dimensions, it suffers from the problem of interpretability. This means that it is very hard for us to even diagnose what is causing its sub-par performance.\n",
    "\n",
    "In our case, creating features using TF-IDF got us an accuracy of 92% with very interpretable features. This is a good combination and so we deem this the best model for us here."
   ]
  },
  {
   "cell_type": "markdown",
   "metadata": {},
   "source": [
    "## Conclusions"
   ]
  },
  {
   "cell_type": "markdown",
   "metadata": {},
   "source": [
    "In this case, we cleaned up and featurized an Amazon reviews dataset and built some classification models on these featurizations to predict sentiment. We saw that bag-of-words and TF-IDF both gave interpretable features, while word embeddings did not really. Through increase the set of n-grams we used from 1-grams to up to 4-grams, we were able to get our logistic regression model accuracy up to 95%."
   ]
  },
  {
   "cell_type": "markdown",
   "metadata": {},
   "source": [
    "Building machine learning models on text is a very involved discipline. Some important things of note are as follows:\n",
    "\n",
    "1. Although there are different types of pre-processing involved in textual data, **not everything has to be applied in each case**. For instance, when dealing with text messages special characters might represent important information and need not be removed. Furthermore, upper case may mean someone is angry and represents shouting, so case may not need to be normalized either.\n",
    "\n",
    "2. Hyperparameter tuning in machine learning models is a very important step. We can't go ahead training a model with default parameters. Different sets of parameters have to be tried to see what contributes to the best model.\n",
    "\n",
    "3. Every NLP classification task is different, but the process to be followed is similar to what we did in this case: wrangle the data → create features from text → train ML models."
   ]
  }
 ],
 "metadata": {
  "kernelspec": {
   "display_name": "Python 3",
   "language": "python",
   "name": "python3"
  },
  "language_info": {
   "codemirror_mode": {
    "name": "ipython",
    "version": 3
   },
   "file_extension": ".py",
   "mimetype": "text/x-python",
   "name": "python",
   "nbconvert_exporter": "python",
   "pygments_lexer": "ipython3",
   "version": "3.7.7"
  }
 },
 "nbformat": 4,
 "nbformat_minor": 2
}
